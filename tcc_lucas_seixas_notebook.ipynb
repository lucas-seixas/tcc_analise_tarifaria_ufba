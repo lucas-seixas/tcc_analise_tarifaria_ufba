{
 "cells": [
  {
   "cell_type": "markdown",
   "id": "812853e5",
   "metadata": {
    "id": "812853e5"
   },
   "source": [
    "# Apêndice H\n",
    "---\n",
    "### TCC Lucas Seixas Dias\n",
    "### Análise Tarifária das Unidades Consumidoras da Universidade Federal da Bahia (UFBA)\n",
    "### 12 de dezembro de 2022\n",
    "---"
   ]
  },
  {
   "cell_type": "markdown",
   "id": "ff9d0861",
   "metadata": {
    "id": "ff9d0861"
   },
   "source": [
    "### Importando bibliotecas"
   ]
  },
  {
   "cell_type": "code",
   "execution_count": null,
   "id": "3b9ff16d",
   "metadata": {
    "id": "3b9ff16d"
   },
   "outputs": [],
   "source": [
    "import pandas as pd\n",
    "import numpy as np\n",
    "import seaborn as sns\n",
    "import matplotlib.pyplot as plt\n",
    "\n",
    "# Ignorar mensagens de aviso do phyton\n",
    "import warnings\n",
    "warnings.filterwarnings('ignore') # Ignorar todos os avisos"
   ]
  },
  {
   "cell_type": "markdown",
   "id": "48c595a6",
   "metadata": {
    "id": "48c595a6"
   },
   "source": [
    "### Configurando a visualização dos conjuntos de dados"
   ]
  },
  {
   "cell_type": "code",
   "execution_count": null,
   "id": "a8dbc0cc",
   "metadata": {
    "id": "a8dbc0cc"
   },
   "outputs": [],
   "source": [
    "pd.set_option('display.max_rows', None, 'display.max_columns', None)"
   ]
  },
  {
   "cell_type": "markdown",
   "id": "982cff2a",
   "metadata": {
    "id": "982cff2a"
   },
   "source": [
    "---"
   ]
  },
  {
   "cell_type": "markdown",
   "id": "ddea80b6",
   "metadata": {
    "id": "ddea80b6"
   },
   "source": [
    "### Importando planilhas"
   ]
  },
  {
   "cell_type": "markdown",
   "id": "7431a15c",
   "metadata": {
    "id": "7431a15c"
   },
   "source": [
    "### Tarifas Coelba A4"
   ]
  },
  {
   "cell_type": "code",
   "execution_count": null,
   "id": "a0731035",
   "metadata": {
    "id": "a0731035"
   },
   "outputs": [],
   "source": [
    "tarifa_a4 = pd.read_excel('dados/TARIFA_A4_COELBA_04-2022.xlsx', sheet_name=0)"
   ]
  },
  {
   "cell_type": "code",
   "execution_count": null,
   "id": "58d67cf6",
   "metadata": {
    "id": "58d67cf6"
   },
   "outputs": [],
   "source": [
    "tarifa_a4 = tarifa_a4.set_index('ENQUADRAMENTO')"
   ]
  },
  {
   "cell_type": "code",
   "execution_count": null,
   "id": "1219d494",
   "metadata": {
    "id": "1219d494"
   },
   "outputs": [],
   "source": [
    "tarifa_a4"
   ]
  },
  {
   "cell_type": "markdown",
   "id": "91d5b9c9",
   "metadata": {
    "id": "91d5b9c9"
   },
   "source": [
    "### Tarifas Coelba B3"
   ]
  },
  {
   "cell_type": "code",
   "execution_count": null,
   "id": "559e6465",
   "metadata": {
    "id": "559e6465"
   },
   "outputs": [],
   "source": [
    "tarifa_b3 = pd.read_excel('dados/TARIFA_B3_COELBA_04-2022.xlsx', sheet_name=0)"
   ]
  },
  {
   "cell_type": "code",
   "execution_count": null,
   "id": "4947972a",
   "metadata": {
    "id": "4947972a"
   },
   "outputs": [],
   "source": [
    "tarifa_b3 = tarifa_b3.set_index('ENQUADRAMENTO')"
   ]
  },
  {
   "cell_type": "code",
   "execution_count": null,
   "id": "f9d33e57",
   "metadata": {
    "id": "f9d33e57"
   },
   "outputs": [],
   "source": [
    "tarifa_b3"
   ]
  },
  {
   "cell_type": "markdown",
   "id": "b7127465",
   "metadata": {
    "id": "b7127465"
   },
   "source": [
    "### Faturas UFBA"
   ]
  },
  {
   "cell_type": "code",
   "execution_count": null,
   "id": "e68b8578",
   "metadata": {
    "id": "e68b8578",
    "scrolled": false
   },
   "outputs": [],
   "source": [
    "df = pd.read_excel('dados/Faturamento_UFBA_2022.xlsx', sheet_name=0)"
   ]
  },
  {
   "cell_type": "markdown",
   "id": "336aa974",
   "metadata": {
    "id": "336aa974"
   },
   "source": [
    "### Transformando \"Mês/ano\" em índice"
   ]
  },
  {
   "cell_type": "code",
   "execution_count": null,
   "id": "330bf56e",
   "metadata": {
    "id": "330bf56e"
   },
   "outputs": [],
   "source": [
    "# Transformar de DataTime para String\n",
    "df['Mês/ano'] = df['Mês/ano'].astype(str)"
   ]
  },
  {
   "cell_type": "code",
   "execution_count": null,
   "id": "b0a5b903",
   "metadata": {
    "id": "b0a5b903"
   },
   "outputs": [],
   "source": [
    "# Deixar somente mês e ano\n",
    "df['Mês/ano'] = df['Mês/ano'].str.extract(r'(\\d{4}-\\d{2})')"
   ]
  },
  {
   "cell_type": "code",
   "execution_count": null,
   "id": "d20204c5",
   "metadata": {
    "id": "d20204c5"
   },
   "outputs": [],
   "source": [
    "df = df.set_index('Mês/ano')"
   ]
  },
  {
   "cell_type": "markdown",
   "id": "41f13f33",
   "metadata": {
    "id": "41f13f33"
   },
   "source": [
    "### Preenchendo campos ausentes com zero"
   ]
  },
  {
   "cell_type": "code",
   "execution_count": null,
   "id": "1cdeaf3a",
   "metadata": {
    "id": "1cdeaf3a"
   },
   "outputs": [],
   "source": [
    "df.fillna(value=0, inplace=True)"
   ]
  },
  {
   "cell_type": "markdown",
   "id": "0a88c41a",
   "metadata": {
    "id": "0a88c41a"
   },
   "source": [
    "### Verificando valores perdidos com multas e juros"
   ]
  },
  {
   "cell_type": "code",
   "execution_count": null,
   "id": "38e72dd9",
   "metadata": {
    "id": "38e72dd9"
   },
   "outputs": [],
   "source": [
    "df_leitura = df['Multa (R$)'] + df['Juros (R$)']\n",
    "print('Por todo o histórico (jan2017 a set2022):')\n",
    "print(round(df_leitura.sum(), 2))\n",
    "print()\n",
    "\n",
    "df_leitura = df_leitura[df_leitura.index >= '2020-08']\n",
    "print('Nos últimos 24 meses:')\n",
    "print(round(df_leitura.sum(), 2))\n",
    "print()\n",
    "\n",
    "df_leitura = df_leitura[df_leitura.index >= '2022-01']\n",
    "print('No ano de 2022 (janeiro a setembro):')\n",
    "print(round(df_leitura.sum(), 2))"
   ]
  },
  {
   "cell_type": "markdown",
   "id": "7876de3b",
   "metadata": {
    "id": "7876de3b"
   },
   "source": [
    "### Ordenando conjunto de dados"
   ]
  },
  {
   "cell_type": "code",
   "execution_count": null,
   "id": "0c1ab410",
   "metadata": {
    "id": "0c1ab410"
   },
   "outputs": [],
   "source": [
    "df.sort_values(by = ['Mês/ano', 'Consumos Ativos (KWh)'], ascending=[True,False], inplace = True)"
   ]
  },
  {
   "cell_type": "markdown",
   "id": "378cc2c8",
   "metadata": {
    "id": "378cc2c8"
   },
   "source": [
    "### Filtrando apenas contas mensais"
   ]
  },
  {
   "cell_type": "code",
   "execution_count": null,
   "id": "093fc82d",
   "metadata": {
    "id": "093fc82d"
   },
   "outputs": [],
   "source": [
    "df = df[df['Tipo Docmto.'] == 'Periodico']"
   ]
  },
  {
   "cell_type": "markdown",
   "id": "208e1e3b",
   "metadata": {
    "id": "208e1e3b"
   },
   "source": [
    "### Verificando o conjunto de dados sem limitar a pesquisa de contratos"
   ]
  },
  {
   "cell_type": "code",
   "execution_count": null,
   "id": "f09661b0",
   "metadata": {
    "id": "f09661b0"
   },
   "outputs": [],
   "source": [
    "len(df['Cta Ctto'].drop_duplicates())"
   ]
  },
  {
   "cell_type": "code",
   "execution_count": null,
   "id": "d41660a1",
   "metadata": {
    "id": "d41660a1",
    "scrolled": true
   },
   "outputs": [],
   "source": [
    "len(df['Unidade/UFBA'].drop_duplicates())"
   ]
  },
  {
   "cell_type": "markdown",
   "id": "f7eb59ab",
   "metadata": {
    "id": "f7eb59ab"
   },
   "source": [
    "### Verificando quantidade e quais as unidades da UFBA no arquivo"
   ]
  },
  {
   "cell_type": "code",
   "execution_count": null,
   "id": "8bba7a43",
   "metadata": {
    "id": "8bba7a43",
    "scrolled": true
   },
   "outputs": [],
   "source": [
    "df['Unidade/UFBA'].describe()"
   ]
  },
  {
   "cell_type": "markdown",
   "id": "d49e3513",
   "metadata": {
    "id": "d49e3513"
   },
   "source": [
    "---"
   ]
  },
  {
   "cell_type": "markdown",
   "id": "0e8d2f88",
   "metadata": {
    "id": "0e8d2f88"
   },
   "source": [
    "### Valor dos tributos"
   ]
  },
  {
   "cell_type": "code",
   "execution_count": null,
   "id": "933be5e9",
   "metadata": {
    "id": "933be5e9"
   },
   "outputs": [],
   "source": [
    "# 2022.\n",
    "icms = 0.18\n",
    "tributos = (1-icms)\n",
    "tributos\n",
    "\n",
    "# pis = 0.0099\n",
    "# cofins = 0.0458\n",
    "# tributos = (1-(icms+pis+cofins))"
   ]
  },
  {
   "cell_type": "markdown",
   "id": "b97161ea",
   "metadata": {
    "id": "b97161ea"
   },
   "source": [
    "---"
   ]
  },
  {
   "cell_type": "markdown",
   "id": "e468b545",
   "metadata": {
    "id": "e468b545"
   },
   "source": [
    "### Criando lista de unidades consumidoras que possuem conta ativa em set 2022"
   ]
  },
  {
   "cell_type": "code",
   "execution_count": null,
   "id": "f20fa707",
   "metadata": {
    "id": "f20fa707"
   },
   "outputs": [],
   "source": [
    "df_set22 = df[df.index == '2022-09']"
   ]
  },
  {
   "cell_type": "code",
   "execution_count": null,
   "id": "b1cff551",
   "metadata": {
    "id": "b1cff551"
   },
   "outputs": [],
   "source": [
    "len(df_set22['Cta Ctto'].drop_duplicates())"
   ]
  },
  {
   "cell_type": "code",
   "execution_count": null,
   "id": "2973ab5f",
   "metadata": {
    "id": "2973ab5f"
   },
   "outputs": [],
   "source": [
    "unidades_set22 = df_set22['Unidade/UFBA']\n",
    "unidades_set22 = pd.Series.tolist(unidades_set22)\n",
    "len(unidades_set22)"
   ]
  },
  {
   "cell_type": "code",
   "execution_count": null,
   "id": "d679408e",
   "metadata": {
    "id": "d679408e"
   },
   "outputs": [],
   "source": [
    "unidades_set22_grupo_a = df_set22[df_set22['Classe Cálculo'] == 'Grupo A']['Unidade/UFBA']\n",
    "unidades_set22_grupo_a = pd.Series.tolist(unidades_set22_grupo_a)\n",
    "len(unidades_set22_grupo_a)"
   ]
  },
  {
   "cell_type": "code",
   "execution_count": null,
   "id": "b7d3fe1e",
   "metadata": {
    "id": "b7d3fe1e"
   },
   "outputs": [],
   "source": [
    "unidades_set22_grupo_b = df_set22[df_set22['Classe Cálculo'] == 'Grupo B']['Unidade/UFBA']\n",
    "unidades_set22_grupo_b = pd.Series.tolist(unidades_set22_grupo_b)\n",
    "len(unidades_set22_grupo_b)"
   ]
  },
  {
   "cell_type": "markdown",
   "id": "4d5a3803",
   "metadata": {
    "id": "4d5a3803"
   },
   "source": [
    "### Criando lista das unidades consumidoras do Grupo A com nenhuma demanda de registrada maior que 75 kW desde 2019"
   ]
  },
  {
   "cell_type": "code",
   "execution_count": null,
   "id": "ca527882",
   "metadata": {
    "id": "ca527882"
   },
   "outputs": [],
   "source": [
    "unidades_set22_grupo_a_75menos = []\n",
    "\n",
    "for i in unidades_set22_grupo_a:\n",
    "    \n",
    "    df_leitura = df[df['Unidade/UFBA'] == i]    \n",
    "    df_leitura = df_leitura[df_leitura.index >= '2019-01']\n",
    "    \n",
    "    \n",
    "    if (df_leitura['Demandas Ativas Registradas Fora de Ponta -  (KW)'].max() < 75) \\\n",
    "    and (df_leitura['Demandas Ativas Registradas Na Ponta -  (KW)'].max() < 75):\n",
    "        unidades_set22_grupo_a_75menos.append(i)\n",
    "\n",
    "len(unidades_set22_grupo_a_75menos)"
   ]
  },
  {
   "cell_type": "markdown",
   "id": "6c4515ee",
   "metadata": {
    "id": "6c4515ee"
   },
   "source": [
    "---"
   ]
  },
  {
   "cell_type": "markdown",
   "id": "9b0cafa0",
   "metadata": {
    "id": "9b0cafa0"
   },
   "source": [
    "### Verificando se alguma unidade consumidora já esteve no Grupo A e hoje é Grupo B"
   ]
  },
  {
   "cell_type": "code",
   "execution_count": null,
   "id": "f9e0a562",
   "metadata": {
    "id": "f9e0a562"
   },
   "outputs": [],
   "source": [
    "todas_unidades = df['Unidade/UFBA'].drop_duplicates()\n",
    "\n",
    "for unid in todas_unidades:\n",
    "    df_unid = df[df['Unidade/UFBA'] == unid]\n",
    "    \n",
    "    if df_unid['Classe Cálculo'].value_counts(normalize=True)[0] != 1:\n",
    "        print()\n",
    "        print(unid)"
   ]
  },
  {
   "cell_type": "markdown",
   "id": "a5781463",
   "metadata": {
    "id": "a5781463"
   },
   "source": [
    "---"
   ]
  },
  {
   "cell_type": "markdown",
   "id": "be80bd28",
   "metadata": {
    "id": "be80bd28"
   },
   "source": [
    "### Criando função que registra o maior valor entre Demanda Fora Ponta e Demanda Ponta de cada mês"
   ]
  },
  {
   "cell_type": "code",
   "execution_count": null,
   "id": "93bbf23d",
   "metadata": {
    "id": "93bbf23d"
   },
   "outputs": [],
   "source": [
    "# Adicionei essa coluna para que a média móvel seja calculada com a maior demanda do mês. \n",
    "\n",
    "def maior(df):  \n",
    "    if df['Demandas Ativas Registradas Fora de Ponta -  (KW)'] > df['Demandas Ativas Registradas Na Ponta -  (KW)']:\n",
    "        return df['Demandas Ativas Registradas Fora de Ponta -  (KW)']\n",
    "    else:\n",
    "        return df['Demandas Ativas Registradas Na Ponta -  (KW)']"
   ]
  },
  {
   "cell_type": "markdown",
   "id": "176e2e06",
   "metadata": {
    "id": "176e2e06"
   },
   "source": [
    "### Adicionando a coluna \"Maior Demanda Entre Ponta e Fora Ponta\" no conjunto de dados"
   ]
  },
  {
   "cell_type": "code",
   "execution_count": null,
   "id": "a47ae664",
   "metadata": {
    "id": "a47ae664"
   },
   "outputs": [],
   "source": [
    "df['Maior Demanda Entre Ponta e Fora Ponta'] = df.apply(lambda df: maior(df), axis=1)"
   ]
  },
  {
   "cell_type": "markdown",
   "id": "a0b3db30",
   "metadata": {
    "id": "a0b3db30"
   },
   "source": [
    "---"
   ]
  },
  {
   "cell_type": "markdown",
   "id": "b9d9e245",
   "metadata": {
    "id": "b9d9e245"
   },
   "source": [
    "### Definindo novo conjunto de dados filtrando colunas"
   ]
  },
  {
   "cell_type": "code",
   "execution_count": null,
   "id": "f15c0b04",
   "metadata": {
    "id": "f15c0b04"
   },
   "outputs": [],
   "source": [
    "df_cortado = df[['Classe Cálculo', 'Unidade/UFBA', 'Consumos Ativos (KWh)', 'Consumos Ativos Na Ponta (KWh)', \\\n",
    "                 'Consumos Ativos Fora de Ponta (KWh)', 'Consumos Reativos (KWh)', 'Demdas. Ativas Contdas. (DC)', \\\n",
    "                 'Demandas Ativas Registradas Na Ponta -  (KW)', 'Demandas Ativas Registradas Fora de Ponta -  (KW)', \\\n",
    "                 'Demandas Reativas Excedentes (KW)', 'Multa (R$)', 'Juros (R$)', 'TIP/CIP (R$)', \\\n",
    "                 'Tributos Federais (R$)', 'Total da Fatura (R$)', 'Maior Demanda Entre Ponta e Fora Ponta']]"
   ]
  },
  {
   "cell_type": "markdown",
   "id": "f7f8f781",
   "metadata": {
    "id": "f7f8f781"
   },
   "source": [
    "### Calculando a do valor da fatura de energia original sem TIP, multas, juros e tributos"
   ]
  },
  {
   "cell_type": "code",
   "execution_count": null,
   "id": "af0e77a6",
   "metadata": {
    "id": "af0e77a6"
   },
   "outputs": [],
   "source": [
    "df_cortado['Fatura Original (R$)'] = df_cortado['Total da Fatura (R$)'] - (df_cortado['Multa (R$)'] + \\\n",
    "                                                                           df_cortado['Juros (R$)'] + \\\n",
    "                                                                           df_cortado['TIP/CIP (R$)'])"
   ]
  },
  {
   "cell_type": "markdown",
   "id": "dd1ad1a8",
   "metadata": {
    "id": "dd1ad1a8"
   },
   "source": [
    "### Gerando cópia do conjunto de dados filtrado"
   ]
  },
  {
   "cell_type": "code",
   "execution_count": null,
   "id": "8266d114",
   "metadata": {
    "id": "8266d114"
   },
   "outputs": [],
   "source": [
    "df_calculo = df_cortado.copy()"
   ]
  },
  {
   "cell_type": "markdown",
   "id": "db83a559",
   "metadata": {
    "id": "db83a559"
   },
   "source": [
    "---"
   ]
  },
  {
   "cell_type": "markdown",
   "id": "4fd7165d",
   "metadata": {
    "id": "4fd7165d"
   },
   "source": [
    "### Criando funções que calculam ultrapassagem de demanda ativa registradas na ponta e fora da ponta\n",
    "###### Considerando 5% de tolerância conforme REN 1000/2021 ANEEL"
   ]
  },
  {
   "cell_type": "code",
   "execution_count": null,
   "id": "ac8cc395",
   "metadata": {
    "id": "ac8cc395"
   },
   "outputs": [],
   "source": [
    "def ultrapassagem_ponta(df_calculo):  \n",
    "    if ((df_calculo['Demandas Ativas Registradas Na Ponta -  (KW)'] - (df_calculo['Demdas. Ativas Contdas. (DC)']*1.05)) < 0):\n",
    "        return 0\n",
    "    else:\n",
    "        return (df_calculo['Demandas Ativas Registradas Na Ponta -  (KW)'] - df_calculo['Demdas. Ativas Contdas. (DC)'])"
   ]
  },
  {
   "cell_type": "code",
   "execution_count": null,
   "id": "216becbc",
   "metadata": {
    "id": "216becbc"
   },
   "outputs": [],
   "source": [
    "def ultrapassagem_fora_ponta(df_calculo):  \n",
    "    if ((df_calculo['Demandas Ativas Registradas Fora de Ponta -  (KW)'] - (df_calculo['Demdas. Ativas Contdas. (DC)']*1.05)) < 0):\n",
    "        return 0\n",
    "    else:\n",
    "        return (df_calculo['Demandas Ativas Registradas Fora de Ponta -  (KW)'] - df_calculo['Demdas. Ativas Contdas. (DC)'])"
   ]
  },
  {
   "cell_type": "code",
   "execution_count": null,
   "id": "d473e8d9",
   "metadata": {
    "id": "d473e8d9"
   },
   "outputs": [],
   "source": [
    "def ultrapassagem_max_ponta(df_leitura):  \n",
    "    if ((df_leitura['Demandas Ativas Registradas Na Ponta -  (KW)'] - (df_leitura['maior_demanda_ativa_na_ponta']*1.05)) < 0):\n",
    "        return 0\n",
    "    else:\n",
    "        return (df_leitura['Demandas Ativas Registradas Na Ponta -  (KW)'] - df_leitura['maior_demanda_ativa_na_ponta'])"
   ]
  },
  {
   "cell_type": "code",
   "execution_count": null,
   "id": "406b5e8a",
   "metadata": {
    "id": "406b5e8a"
   },
   "outputs": [],
   "source": [
    "def ultrapassagem_max_fora_ponta(df_leitura):  \n",
    "    if ((df_leitura['Demandas Ativas Registradas Fora de Ponta -  (KW)'] - (df_leitura['maior_demanda_ativa_fora_ponta']*1.05)) < 0):\n",
    "        return 0\n",
    "    else:\n",
    "        return (df_leitura['Demandas Ativas Registradas Fora de Ponta -  (KW)'] - df_leitura['maior_demanda_ativa_fora_ponta'])"
   ]
  },
  {
   "cell_type": "code",
   "execution_count": null,
   "id": "8f20f352",
   "metadata": {
    "id": "8f20f352"
   },
   "outputs": [],
   "source": [
    "def ultrapassagem_otima_ponta(df_leitura):  \n",
    "    if ((df_leitura['Demandas Ativas Registradas Na Ponta -  (KW)'] - (df_leitura['demanda_teste']*1.05)) < 0):\n",
    "        return 0\n",
    "    else:\n",
    "        return (df_leitura['Demandas Ativas Registradas Na Ponta -  (KW)'] - df_leitura['demanda_teste'])"
   ]
  },
  {
   "cell_type": "code",
   "execution_count": null,
   "id": "845da691",
   "metadata": {
    "id": "845da691"
   },
   "outputs": [],
   "source": [
    "def ultrapassagem_otima_fora_ponta(df_leitura):  \n",
    "    if ((df_leitura['Demandas Ativas Registradas Fora de Ponta -  (KW)'] - (df_leitura['demanda_teste']*1.05)) < 0):\n",
    "        return 0\n",
    "    else:\n",
    "        return (df_leitura['Demandas Ativas Registradas Fora de Ponta -  (KW)'] - df_leitura['demanda_teste'])"
   ]
  },
  {
   "cell_type": "markdown",
   "id": "f8c34b81",
   "metadata": {
    "id": "f8c34b81"
   },
   "source": [
    "---"
   ]
  },
  {
   "cell_type": "markdown",
   "id": "c27455ff",
   "metadata": {
    "id": "c27455ff"
   },
   "source": [
    "### Calculando o valor das faturas considerando as modalidades tarifárias do Grupo A \n",
    "######  A demanda utilizada no cáculo foi a Demanda Contratada vigente do mês"
   ]
  },
  {
   "cell_type": "code",
   "execution_count": null,
   "id": "c5fe923b",
   "metadata": {
    "id": "c5fe923b"
   },
   "outputs": [],
   "source": [
    "# realizei o cálculo com  'Consumos Reativos (KWh)' pois 'Cons. Reativ. Exced. Regist. (RCRE)' tinha alguns valores estranhos na tabela\n",
    "\n",
    "for tipo_tarifa in tarifa_a4.index: \n",
    "    \n",
    "    df_calculo['Tarifa (R$) Consumo Ativo na Ponta '+tipo_tarifa] = \\\n",
    "    df_calculo['Consumos Ativos Na Ponta (KWh)']*tarifa_a4.at[tipo_tarifa, 'Consumo Ativo na Ponta']\n",
    "    \n",
    "    df_calculo['Tarifa (R$) Consumo Ativo Fora Ponta '+tipo_tarifa] = \\\n",
    "    df_calculo['Consumos Ativos Fora de Ponta (KWh)']*tarifa_a4.at[tipo_tarifa, 'Consumo Ativo Fora Ponta']\n",
    "    \n",
    "    df_calculo['Tarifa (R$) Consumo Reativo Excedente '+tipo_tarifa] = \\\n",
    "    df_calculo['Consumos Reativos (KWh)']*tarifa_a4.at[tipo_tarifa, 'Consumo Reativo Excedente']\n",
    "    \n",
    "    df_calculo['Tarifa (R$) Demanda Ativa na Ponta '+tipo_tarifa] = \\\n",
    "    df_calculo['Demdas. Ativas Contdas. (DC)']*tarifa_a4.at[tipo_tarifa, 'Demanda Ativa na Ponta']\n",
    "    \n",
    "    df_calculo['Tarifa (R$) Demanda Ativa Fora Ponta '+tipo_tarifa] = \\\n",
    "    df_calculo['Demdas. Ativas Contdas. (DC)']*tarifa_a4.at[tipo_tarifa, 'Demanda Ativa Fora Ponta']\n",
    "    \n",
    "    df_calculo['Tarifa (R$) Demanda Reativa Excedente na Ponta e Fora Ponta '+tipo_tarifa] = \\\n",
    "    df_calculo['Demandas Reativas Excedentes (KW)']*tarifa_a4.at[tipo_tarifa, 'Demanda Reativa Excedente na Ponta e Fora Ponta']\n",
    "\n",
    "    df_calculo['Tarifa (R$) Ultrapassagem na Ponta '+tipo_tarifa] = \\\n",
    "    df_calculo.apply(lambda df_calculo: ultrapassagem_ponta(df_calculo), axis=1) * tarifa_a4.at[tipo_tarifa, 'Ultrapassagem na Ponta']\n",
    "    \n",
    "    df_calculo['Tarifa (R$) Ultrapassagem Fora Ponta '+tipo_tarifa] = \\\n",
    "    df_calculo.apply(lambda df_calculo: ultrapassagem_fora_ponta(df_calculo), axis=1) * tarifa_a4.at[tipo_tarifa, 'Ultrapassagem Fora Ponta']\n",
    "\n",
    "    df_calculo['Tarifa (R$) '+tipo_tarifa] = (df_calculo['Tarifa (R$) Consumo Ativo na Ponta '+tipo_tarifa] + \\\n",
    "                                              df_calculo['Tarifa (R$) Consumo Ativo Fora Ponta '+tipo_tarifa] + \\\n",
    "                                              df_calculo['Tarifa (R$) Consumo Reativo Excedente '+tipo_tarifa] + \\\n",
    "                                              df_calculo['Tarifa (R$) Demanda Ativa na Ponta '+tipo_tarifa] + \\\n",
    "                                              df_calculo['Tarifa (R$) Demanda Ativa Fora Ponta '+tipo_tarifa] + \\\n",
    "                                              df_calculo['Tarifa (R$) Demanda Reativa Excedente na Ponta e Fora Ponta '+tipo_tarifa] + \\\n",
    "                                              df_calculo['Tarifa (R$) Ultrapassagem na Ponta '+tipo_tarifa] + \\\n",
    "                                              df_calculo['Tarifa (R$) Ultrapassagem Fora Ponta '+tipo_tarifa])/tributos"
   ]
  },
  {
   "cell_type": "markdown",
   "id": "481b2684",
   "metadata": {
    "id": "481b2684"
   },
   "source": [
    "### Calculando valor das faturas considerando a classificação tarifária Grupo B3"
   ]
  },
  {
   "cell_type": "code",
   "execution_count": null,
   "id": "42ca01c4",
   "metadata": {
    "id": "42ca01c4"
   },
   "outputs": [],
   "source": [
    "df_calculo['Tarifa (R$) Consumo Ativo - B3'] = \\\n",
    "df_calculo['Consumos Ativos (KWh)'] * tarifa_b3.at['B3', 'Consumo Ativo']\n",
    "\n",
    "df_calculo['Tarifa (R$) Consumo Reativo Excedente - B3'] = \\\n",
    "df_calculo['Consumos Reativos (KWh)'] * tarifa_b3.at['B3', 'Consumo Reativo Excedente']\n",
    "\n",
    "df_calculo['Tarifa (R$) B3'] = (df_calculo['Tarifa (R$) Consumo Ativo - B3'] + \\\n",
    "                                df_calculo['Tarifa (R$) Consumo Reativo Excedente - B3'] ) / tributos"
   ]
  },
  {
   "cell_type": "markdown",
   "id": "02cf8668",
   "metadata": {
    "id": "02cf8668"
   },
   "source": [
    "----"
   ]
  },
  {
   "cell_type": "markdown",
   "id": "e634754c",
   "metadata": {
    "id": "e634754c"
   },
   "source": [
    "# - - - - - GRÁFICOS COMPARATIVOS DE CONSUMO - - - - -"
   ]
  },
  {
   "cell_type": "markdown",
   "id": "e65eb08f",
   "metadata": {
    "id": "e65eb08f"
   },
   "source": [
    "---"
   ]
  },
  {
   "cell_type": "markdown",
   "id": "37bb205f",
   "metadata": {
    "id": "37bb205f"
   },
   "source": [
    "# Consumo Ativo Total, Ponta e Fora Ponta"
   ]
  },
  {
   "cell_type": "code",
   "execution_count": null,
   "id": "7a00389b",
   "metadata": {
    "id": "7a00389b",
    "scrolled": true
   },
   "outputs": [],
   "source": [
    "# Apêndice D\n",
    "\n",
    "plt.rc('figure', figsize = (10,1.5))   \n",
    "plt.rcParams['xtick.labelsize'] = 8\n",
    "plt.rcParams['ytick.labelsize'] = 8\n",
    "\n",
    "unidades_set22_grupo_a_sort = unidades_set22_grupo_a.copy()\n",
    "unidades_set22_grupo_a_sort.sort()\n",
    "contador = 0\n",
    "for i in unidades_set22_grupo_a_sort:\n",
    "    df_leitura = df[df['Unidade/UFBA'] == i]\n",
    "    df_leitura = df_leitura[df_leitura.index >= '2019-01']   \n",
    "    df_grafico_1 = df_leitura[['Consumos Ativos (KWh)']]\n",
    "    df_grafico_2 = df_leitura[['Consumos Ativos Fora de Ponta (KWh)', 'Consumos Ativos Na Ponta (KWh)']]\n",
    "\n",
    "    ax = df_grafico_1.plot(kind='bar', color='blue', alpha=0.25, width = .8)\n",
    "    df_grafico_2.plot(kind='line', ax=ax, color=('green','tomato'), lw=1.5)\n",
    "   \n",
    "    plt.xticks(rotation=90)\n",
    "    plt.legend(['Consumo ativo fora de ponta', 'Consumo ativo na ponta', 'Consumo ativo total'], fontsize = 8)       \n",
    "    plt.title(i, {'fontsize': 12}, fontweight=\"bold\")\n",
    "    plt.xlabel(\"\", {'fontsize': 10})\n",
    "    plt.ylabel(\"kWh\", {'fontsize': 10})\n",
    "    contador = contador + 1\n",
    "#     plt.savefig(str(contador)+'.png', pad_inches=0.1, bbox_inches ='tight', facecolor ='w')\n",
    "    plt.show()"
   ]
  },
  {
   "cell_type": "markdown",
   "id": "84e24519",
   "metadata": {
    "id": "84e24519"
   },
   "source": [
    "---"
   ]
  },
  {
   "cell_type": "markdown",
   "id": "a9eef89d",
   "metadata": {
    "id": "a9eef89d"
   },
   "source": [
    "# Demanda Contrada Vigente, e Demandas Registradas Ponta e Fora Ponta"
   ]
  },
  {
   "cell_type": "code",
   "execution_count": null,
   "id": "471fd36c",
   "metadata": {
    "id": "471fd36c"
   },
   "outputs": [],
   "source": [
    "# Apendice C\n",
    "# Aqui conseguimos visualizar unidades que possuem muita discrepância entre a demanda contratada e a utilizada\n",
    "\n",
    "plt.rc('figure', figsize = (10,1.5))   \n",
    "plt.rcParams['xtick.labelsize'] = 8\n",
    "plt.rcParams['ytick.labelsize'] = 8\n",
    "\n",
    "contador = 0\n",
    "unidades_set22_grupo_a_sort = unidades_set22_grupo_a.copy()\n",
    "unidades_set22_grupo_a_sort.sort()\n",
    "for i in unidades_set22_grupo_a_sort:\n",
    "    \n",
    "    df_leitura = df[df['Unidade/UFBA'] == i]    \n",
    "    df_leitura = df_leitura[df_leitura.index >= '2017-09']\n",
    "    df_leitura1 = df_leitura[['Demdas. Ativas Contdas. (DC)']]\n",
    "    df_leitura2 = df_leitura[['Demandas Ativas Registradas Fora de Ponta -  (KW)', 'Demandas Ativas Registradas Na Ponta -  (KW)']]\n",
    "\n",
    "    fig = df_leitura1.plot(kind='bar', color='olive', alpha=0.3, width = .8)\n",
    "    df_leitura2.plot(kind='line', ax=fig, color=('green','red'), lw=3)\n",
    "    \n",
    "    plt.xticks(rotation=90)\n",
    "    plt.legend(['D. fora ponta', 'D. na ponta', 'D. contratada'], fontsize = 8)          \n",
    "    plt.title(i, {'fontsize': 12}, fontweight=\"bold\")\n",
    "    plt.xlabel(\"\", {'fontsize': 10})\n",
    "    plt.ylabel(\"kW\", {'fontsize': 10})\n",
    "    contador = contador + 1\n",
    "#     plt.savefig(str(contador)+'.png', pad_inches=0.1, bbox_inches ='tight', facecolor ='w')\n",
    "    plt.show()"
   ]
  },
  {
   "cell_type": "markdown",
   "id": "49566c4f",
   "metadata": {
    "id": "49566c4f"
   },
   "source": [
    "---"
   ]
  },
  {
   "cell_type": "markdown",
   "id": "e376cf3e",
   "metadata": {
    "id": "e376cf3e"
   },
   "source": [
    "# Unidades com demanda registrada menor que 75 kW desde 2019\n",
    "# Demanda Contrada Vigente, e Demandas Registradas Ponta e Fora Ponta"
   ]
  },
  {
   "cell_type": "code",
   "execution_count": null,
   "id": "a3d96da0",
   "metadata": {
    "id": "a3d96da0"
   },
   "outputs": [],
   "source": [
    "# Apêndice B\n",
    "# Unidades que poderiam ser Grupo B e não pagar tarifa de Demanda\n",
    "\n",
    "plt.rc('figure', figsize = (10,1.5))   \n",
    "plt.rcParams['xtick.labelsize'] = 8\n",
    "plt.rcParams['ytick.labelsize'] = 8\n",
    "\n",
    "contador = 0\n",
    "unidades_set22_grupo_a_75menos_sort = unidades_set22_grupo_a_75menos.copy()\n",
    "unidades_set22_grupo_a_75menos_sort.sort()\n",
    "for i in unidades_set22_grupo_a_75menos_sort:\n",
    "    \n",
    "    df_leitura = df[df['Unidade/UFBA'] == i]\n",
    "    df_leitura = df_leitura[df_leitura.index >= '2019-01']   \n",
    "    df_leitura1 = df_leitura[['Demdas. Ativas Contdas. (DC)']]\n",
    "    df_leitura2 = df_leitura[['Demandas Ativas Registradas Na Ponta -  (KW)', 'Demandas Ativas Registradas Fora de Ponta -  (KW)']]\n",
    "\n",
    "    ax = df_leitura1.plot(kind='bar', color='gray', alpha=0.3, width = .8)\n",
    "    df_leitura2.plot(kind='line', ax=ax, color=('red', 'green'), lw=1.5)\n",
    "\n",
    "    plt.axhline(y=75, color = 'purple', lw=2, alpha=0.5, label='75 kW')\n",
    "   \n",
    "    plt.xticks(rotation=90)\n",
    "    plt.legend(['D. ativa na ponta', 'D. ativa fora de ponta', '75 kW', 'D. ativa contratada'], fontsize = 8)          \n",
    "    plt.title(i, {'fontsize': 12}, fontweight=\"bold\")\n",
    "    plt.xlabel(\"\", {'fontsize': 10})\n",
    "    plt.ylabel(\"kW\", {'fontsize': 10})\n",
    "    contador = contador + 1\n",
    "#     plt.savefig(str(contador)+'.png', pad_inches=0.1, bbox_inches ='tight', facecolor ='w')\n",
    "    plt.show()"
   ]
  },
  {
   "cell_type": "markdown",
   "id": "c5200251",
   "metadata": {
    "id": "c5200251"
   },
   "source": [
    "---"
   ]
  },
  {
   "cell_type": "markdown",
   "id": "9b8f886b",
   "metadata": {
    "id": "9b8f886b"
   },
   "source": [
    "# Média móvel (12 meses) da Demanda Registrada \n",
    "# Demanda Contratada ao fundo"
   ]
  },
  {
   "cell_type": "code",
   "execution_count": null,
   "id": "f019eb61",
   "metadata": {
    "id": "f019eb61"
   },
   "outputs": [],
   "source": [
    "# Pensei em utilizar essa forma para otimizar a escolha de uma nova demanda contratada para as unidades\n",
    "\n",
    "plt.rc('figure', figsize = (15,5))\n",
    "\n",
    "for i in unidades_set22_grupo_a:\n",
    "    \n",
    "    df_leitura = df[df['Unidade/UFBA'] == i]\n",
    "    \n",
    "    df_leitura['Média Móvel Demanda Registrada'] = df_leitura['Maior Demanda Entre Ponta e Fora Ponta'].rolling(12).mean() # Média móvel 12 meses Demanda\n",
    "\n",
    "    sns.barplot(y = 'Demdas. Ativas Contdas. (DC)', \n",
    "                x = df_leitura.index, \n",
    "                data = df_leitura,\n",
    "                color = 'orange', \n",
    "                alpha = 0.3\n",
    "               ).set_title(i)\n",
    "\n",
    "    sns.pointplot(y = 'Média Móvel Demanda Registrada', \n",
    "                  x = df_leitura.index, \n",
    "                  data = df_leitura, \n",
    "                  color = 'green',\n",
    "                  markers = '',\n",
    "                  label='Média Móvel 12 meses Demanda Registrada'\n",
    "                 )\n",
    "\n",
    "    plt.xticks(rotation=90)\n",
    "    plt.show()"
   ]
  },
  {
   "cell_type": "markdown",
   "id": "785b4072",
   "metadata": {
    "id": "785b4072"
   },
   "source": [
    "---"
   ]
  },
  {
   "cell_type": "markdown",
   "id": "856f28b6",
   "metadata": {
    "id": "856f28b6"
   },
   "source": [
    "# - - - - - GRÁFICOS COMPARATIVOS COM VALORES - - - - -"
   ]
  },
  {
   "cell_type": "markdown",
   "id": "c9e642c1",
   "metadata": {
    "id": "c9e642c1"
   },
   "source": [
    "---"
   ]
  },
  {
   "cell_type": "markdown",
   "id": "d5d6fdef",
   "metadata": {
    "id": "d5d6fdef"
   },
   "source": [
    "# Fatura Original x Tarifa Grupo A4 Verde"
   ]
  },
  {
   "cell_type": "code",
   "execution_count": null,
   "id": "af63c8c8",
   "metadata": {
    "id": "af63c8c8"
   },
   "outputs": [],
   "source": [
    "# Apêndice A\n",
    "# Conferindo se os cálculos estão sendo feitos corretamente\n",
    "\n",
    "plt.rc('figure', figsize = (5,2))   \n",
    "plt.rcParams['xtick.labelsize'] = 8\n",
    "plt.rcParams['ytick.labelsize'] = 8\n",
    "contador = 0\n",
    "\n",
    "unidades_set22_grupo_a_sort = unidades_set22_grupo_a.copy()\n",
    "unidades_set22_grupo_a_sort.sort()\n",
    "for i in unidades_set22_grupo_a_sort:\n",
    "    \n",
    "    df_leitura = df_calculo[df_calculo['Unidade/UFBA'] == i]    \n",
    "    df_leitura = df_leitura[df_leitura.index >= '2022-05']\n",
    "    \n",
    "    df_leitura = df_leitura[['Tarifa (R$) A4 VERDE 2022', 'Fatura Original (R$)']]\n",
    "    \n",
    "    df_leitura.plot.bar(color =['darkgreen', 'darkorange'], width = 0.7)\n",
    "\n",
    "    plt.xticks(rotation=0)\n",
    "    plt.legend(['Calculado', 'Original'], fontsize = 8)    \n",
    "    plt.title(i, {'fontsize': 10}, fontweight=\"bold\")\n",
    "    plt.xlabel(\"\", {'fontsize': 10})\n",
    "    plt.ylabel(\"R$\", {'fontsize': 10})\n",
    "    \n",
    "    contador=contador+1\n",
    "#     plt.savefig(str(contador)+'.png', pad_inches=0.1, bbox_inches ='tight', facecolor ='w') \n",
    "    plt.show()    "
   ]
  },
  {
   "cell_type": "markdown",
   "id": "84d435ff",
   "metadata": {
    "id": "84d435ff"
   },
   "source": [
    "---"
   ]
  },
  {
   "cell_type": "markdown",
   "id": "5f9149aa",
   "metadata": {
    "id": "5f9149aa"
   },
   "source": [
    "# Tarifa VERDE vs AZUL\n",
    "# Demanda contratada vigente"
   ]
  },
  {
   "cell_type": "code",
   "execution_count": null,
   "id": "72cd5640",
   "metadata": {
    "id": "72cd5640"
   },
   "outputs": [],
   "source": [
    "# A ultrapassagem de demanda foi devidamente calculada \n",
    "# Aqui considerei a demanda contratada na ponta AZUL a mesma que a fora ponta, então os valores da azul ficaram bem altos\n",
    "\n",
    "plt.rc('figure', figsize = (15,5))\n",
    "\n",
    "mes_inicial = '2022-05'\n",
    "\n",
    "for i in unidades_set22_grupo_a:\n",
    "\n",
    "    df_leitura = df_calculo[df_calculo['Unidade/UFBA'] == i]\n",
    "    df_leitura = df_leitura[df_leitura.index >= mes_inicial]\n",
    "    df_leitura = df_leitura[['Tarifa (R$) A4 AZUL 2022', 'Tarifa (R$) A4 VERDE 2022']] #, 'Fatura Original (R$)']]\n",
    "\n",
    "    fig = df_leitura.plot.bar(color =['blue', 'green']) # , 'gold'])\n",
    "\n",
    "    plt.xticks(rotation=0)\n",
    "    fig.set_ylabel('Valor (R$)', {'fontsize': 14})\n",
    "    fig.set_xlabel('Data', {'fontsize': 14})\n",
    "    fig.set_title(i, {'fontsize': 18})\n",
    "    plt.legend()\n",
    "    plt.show()\n",
    "    "
   ]
  },
  {
   "cell_type": "markdown",
   "id": "103a071e",
   "metadata": {
    "id": "103a071e"
   },
   "source": [
    "---"
   ]
  },
  {
   "cell_type": "markdown",
   "id": "c189377a",
   "metadata": {
    "id": "c189377a"
   },
   "source": [
    "# Tarifa VERDE vs AZUL\n",
    "# Considerando como contratada a demanda máxima que aconteceu nos últimos 12 meses acrescida de 10%"
   ]
  },
  {
   "cell_type": "code",
   "execution_count": null,
   "id": "edd7f602",
   "metadata": {
    "id": "edd7f602"
   },
   "outputs": [],
   "source": [
    "# Nessa versão a tarifa AZUL ficou mais suave mas ainda sim não se demonstrou viável em relação a VERDE\n",
    "\n",
    "plt.rc('figure', figsize = (15,5))\n",
    "\n",
    "mes_maxima_demanda = '2019-09' \n",
    "mes_escolhido = '2022-05'\n",
    "\n",
    "for i in unidades_set22_grupo_a:\n",
    "    \n",
    "    df_leitura = df_cortado[df_cortado['Unidade/UFBA'] == i]\n",
    "   \n",
    "    #Salvar maior demanda do último ano e aumentar 10%\n",
    "    df_leitura = df_leitura[df_leitura.index >= mes_maxima_demanda]\n",
    "    \n",
    "    df_leitura['maior_demanda_ativa_na_ponta'] = \\\n",
    "    df_leitura['Demandas Ativas Registradas Na Ponta -  (KW)'].max() * 1.1\n",
    "    \n",
    "    df_leitura['maior_demanda_ativa_fora_ponta'] = \\\n",
    "    df_leitura['Demandas Ativas Registradas Fora de Ponta -  (KW)'].max() * 1.1    \n",
    "   \n",
    "    for tipo_tarifa in tarifa_a4.index:\n",
    "\n",
    "        df_leitura['Tarifa (R$) Consumo Ativo na Ponta '+tipo_tarifa] = \\\n",
    "        df_leitura['Consumos Ativos Na Ponta (KWh)'] * tarifa_a4.at[tipo_tarifa, 'Consumo Ativo na Ponta']\n",
    "        \n",
    "        df_leitura['Tarifa (R$) Consumo Ativo Fora Ponta '+tipo_tarifa] = \\\n",
    "        df_leitura['Consumos Ativos Fora de Ponta (KWh)'] * tarifa_a4.at[tipo_tarifa, 'Consumo Ativo Fora Ponta']\n",
    "        \n",
    "        df_leitura['Tarifa (R$) Consumo Reativo Excedente '+tipo_tarifa] = \\\n",
    "        df_leitura['Consumos Reativos (KWh)'] * tarifa_a4.at[tipo_tarifa, 'Consumo Reativo Excedente']\n",
    "        \n",
    "        df_leitura['Tarifa (R$) Demanda Ativa na Ponta '+tipo_tarifa] = \\\n",
    "        df_leitura['maior_demanda_ativa_na_ponta'] * tarifa_a4.at[tipo_tarifa, 'Demanda Ativa na Ponta']\n",
    "        \n",
    "        df_leitura['Tarifa (R$) Demanda Ativa Fora Ponta '+tipo_tarifa] = \\\n",
    "        df_leitura['maior_demanda_ativa_fora_ponta'] * tarifa_a4.at[tipo_tarifa, 'Demanda Ativa Fora Ponta']\n",
    "        \n",
    "        df_leitura['Tarifa (R$) Demanda Reativa Excedente na Ponta e Fora Ponta '+tipo_tarifa] = \\\n",
    "        df_leitura['Demandas Reativas Excedentes (KW)']*tarifa_a4.at[tipo_tarifa, 'Demanda Reativa Excedente na Ponta e Fora Ponta']\n",
    "       \n",
    "        df_leitura['Tarifa (R$) Ultrapassagem na Ponta '+tipo_tarifa] = \\\n",
    "        df_leitura.apply(lambda df_leitura: ultrapassagem_max_ponta(df_leitura), axis=1) * tarifa_a4.at[tipo_tarifa, 'Ultrapassagem na Ponta']\n",
    "        \n",
    "        df_leitura['Tarifa (R$) Ultrapassagem Fora Ponta '+tipo_tarifa] = \\\n",
    "        df_leitura.apply(lambda df_leitura: ultrapassagem_max_fora_ponta(df_leitura), axis=1) * tarifa_a4.at[tipo_tarifa, 'Ultrapassagem Fora Ponta']\n",
    "\n",
    "        df_leitura['Tarifa (R$) '+tipo_tarifa] = (df_leitura['Tarifa (R$) Consumo Ativo na Ponta '+tipo_tarifa] + \\\n",
    "                                                  df_leitura['Tarifa (R$) Consumo Ativo Fora Ponta '+tipo_tarifa] + \\\n",
    "                                                  df_leitura['Tarifa (R$) Consumo Reativo Excedente '+tipo_tarifa] + \\\n",
    "                                                  df_leitura['Tarifa (R$) Demanda Ativa na Ponta '+tipo_tarifa] + \\\n",
    "                                                  df_leitura['Tarifa (R$) Demanda Ativa Fora Ponta '+tipo_tarifa] + \\\n",
    "                                                  df_leitura['Tarifa (R$) Demanda Reativa Excedente na Ponta e Fora Ponta '+tipo_tarifa] + \\\n",
    "                                                  df_leitura['Tarifa (R$) Ultrapassagem na Ponta '+tipo_tarifa] + \\\n",
    "                                                  df_leitura['Tarifa (R$) Ultrapassagem Fora Ponta '+tipo_tarifa]) / tributos\n",
    "        \n",
    "    # As tarifas mudaram o preço em maio 2022\n",
    "    df_grafico = df_leitura[df_leitura.index >= mes_escolhido]\n",
    "    df_grafico = df_grafico[['Tarifa (R$) A4 AZUL 2022', 'Tarifa (R$) A4 VERDE 2022']]\n",
    "    \n",
    "    fig = df_grafico.plot.bar(color =['blue', 'green'])\n",
    "\n",
    "    plt.xticks(rotation=0)\n",
    "    fig.set_ylabel('Valor (R$)', {'fontsize': 14})\n",
    "    fig.set_xlabel('Data', {'fontsize': 14})\n",
    "    fig.set_title(i, {'fontsize': 18})\n",
    "    plt.legend()\n",
    "    plt.show()\n",
    "    "
   ]
  },
  {
   "cell_type": "markdown",
   "id": "f5e1e053",
   "metadata": {
    "id": "f5e1e053"
   },
   "source": [
    "---"
   ]
  },
  {
   "cell_type": "markdown",
   "id": "5b30f898",
   "metadata": {
    "id": "5b30f898"
   },
   "source": [
    "# Tarifa VERDE vs AZUL\n",
    "# Considerando como Demanda Contratada o máximo valor da média móvel da demanda que aconteceu desde 2019 acrescida de 10%"
   ]
  },
  {
   "cell_type": "code",
   "execution_count": null,
   "id": "922ba299",
   "metadata": {
    "id": "922ba299"
   },
   "outputs": [],
   "source": [
    "plt.rc('figure', figsize = (15,5))\n",
    "\n",
    "mes_maxima_demanda = '2021-09' \n",
    "mes_escolhido = '2022-05'\n",
    "\n",
    "for i in unidades_set22_grupo_a:\n",
    "    \n",
    "    df_leitura = df_cortado[df_cortado['Unidade/UFBA'] == i]\n",
    "   \n",
    "    #Salvar maior demanda do último ano e aumentar 10%\n",
    "    df_leitura = df_leitura[df_leitura.index >= mes_maxima_demanda]\n",
    "    \n",
    "#     df_leitura['Média Móvel Demanda Registrada'] = df_leitura['Maior Demanda Entre Ponta e Fora Ponta'].rolling(12).mean() # Média móvel 12 meses Demanda\n",
    "#     df_leitura['maior_demanda_ativa'] = df_leitura['Média Móvel Demanda Registrada'].max() * 1.1\n",
    "\n",
    "#     df_leitura['maior_demanda_ativa_na_ponta'] = df_leitura['maior_demanda_ativa']\n",
    "#     df_leitura['maior_demanda_ativa_fora_ponta'] = df_leitura['maior_demanda_ativa']\n",
    "    \n",
    "    df_leitura['maior_demanda_ativa_na_ponta'] = \\\n",
    "    df_leitura['Demandas Ativas Registradas Na Ponta -  (KW)'].rolling(12).mean() # Média móvel 12 meses Demanda\n",
    "    \n",
    "    df_leitura['maior_demanda_ativa_na_ponta'] = \\\n",
    "    df_leitura['Demandas Ativas Registradas Na Ponta -  (KW)'].max() * 1.1 # Pega o maior valor da média móvel no período selecionado\n",
    "    \n",
    "    df_leitura['maior_demanda_ativa_fora_ponta'] = \\\n",
    "    df_leitura['Demandas Ativas Registradas Fora de Ponta -  (KW)'].rolling(12).mean() # Média móvel 12 meses Demanda   \n",
    "    \n",
    "    df_leitura['maior_demanda_ativa_fora_ponta'] = \\\n",
    "    df_leitura['Demandas Ativas Registradas Fora de Ponta -  (KW)'].max() * 1.1 # Pega o maior valor da média móvel no período selecionado    \n",
    "   \n",
    "    for tipo_tarifa in tarifa_a4.index:\n",
    "\n",
    "        df_leitura['Tarifa (R$) Consumo Ativo na Ponta '+tipo_tarifa] = df_leitura['Consumos Ativos Na Ponta (KWh)'] * tarifa_a4.at[tipo_tarifa, 'Consumo Ativo na Ponta']\n",
    "        df_leitura['Tarifa (R$) Consumo Ativo Fora Ponta '+tipo_tarifa] = df_leitura['Consumos Ativos Fora de Ponta (KWh)'] * tarifa_a4.at[tipo_tarifa, 'Consumo Ativo Fora Ponta']\n",
    "        df_leitura['Tarifa (R$) Consumo Reativo Excedente '+tipo_tarifa] = df_leitura['Consumos Reativos (KWh)'] * tarifa_a4.at[tipo_tarifa, 'Consumo Reativo Excedente']\n",
    "        df_leitura['Tarifa (R$) Demanda Ativa na Ponta '+tipo_tarifa] = df_leitura['maior_demanda_ativa_na_ponta'] * tarifa_a4.at[tipo_tarifa, 'Demanda Ativa na Ponta']\n",
    "        df_leitura['Tarifa (R$) Demanda Ativa Fora Ponta '+tipo_tarifa] = df_leitura['maior_demanda_ativa_fora_ponta'] * tarifa_a4.at[tipo_tarifa, 'Demanda Ativa Fora Ponta']\n",
    "        \n",
    "        df_leitura['Tarifa (R$) Demanda Reativa Excedente na Ponta e Fora Ponta '+tipo_tarifa] = df_leitura['Demandas Reativas Excedentes (KW)'] \\\n",
    "        * tarifa_a4.at[tipo_tarifa, 'Demanda Reativa Excedente na Ponta e Fora Ponta']\n",
    "       \n",
    "        df_leitura['Tarifa (R$) Ultrapassagem na Ponta '+tipo_tarifa] = df_leitura.apply(lambda df_leitura: ultrapassagem_max_ponta(df_leitura), axis=1) \\\n",
    "        * tarifa_a4.at[tipo_tarifa, 'Ultrapassagem na Ponta']\n",
    "        \n",
    "        df_leitura['Tarifa (R$) Ultrapassagem Fora Ponta '+tipo_tarifa] = df_leitura.apply(lambda df_leitura: ultrapassagem_max_fora_ponta(df_leitura), axis=1) \\\n",
    "        * tarifa_a4.at[tipo_tarifa, 'Ultrapassagem Fora Ponta']\n",
    "\n",
    "        df_leitura['Tarifa (R$) '+tipo_tarifa] = (df_leitura['Tarifa (R$) Consumo Ativo na Ponta '+tipo_tarifa] + \\\n",
    "                                                  df_leitura['Tarifa (R$) Consumo Ativo Fora Ponta '+tipo_tarifa] + \\\n",
    "                                                  df_leitura['Tarifa (R$) Consumo Reativo Excedente '+tipo_tarifa] + \\\n",
    "                                                  df_leitura['Tarifa (R$) Demanda Ativa na Ponta '+tipo_tarifa] + \\\n",
    "                                                  df_leitura['Tarifa (R$) Demanda Ativa Fora Ponta '+tipo_tarifa] + \\\n",
    "                                                  df_leitura['Tarifa (R$) Demanda Reativa Excedente na Ponta e Fora Ponta '+tipo_tarifa] + \\\n",
    "                                                  df_leitura['Tarifa (R$) Ultrapassagem na Ponta '+tipo_tarifa] + \\\n",
    "                                                  df_leitura['Tarifa (R$) Ultrapassagem Fora Ponta '+tipo_tarifa]) / tributos\n",
    "        \n",
    "    # As tarifas mudaram o preço em maio 2022\n",
    "    df_grafico = df_leitura[df_leitura.index >= mes_escolhido]\n",
    "    df_grafico = df_grafico[['Tarifa (R$) A4 AZUL 2022', 'Tarifa (R$) A4 VERDE 2022', 'Fatura Original (R$)']]\n",
    "    \n",
    "    fig = df_grafico.plot.bar(color =['blue', 'green', 'darkorange'])\n",
    "\n",
    "    plt.xticks(rotation=0)\n",
    "    fig.set_ylabel('Valor (R$)', {'fontsize': 14})\n",
    "    fig.set_xlabel('Data', {'fontsize': 14})\n",
    "    fig.set_title(i, {'fontsize': 18})\n",
    "    plt.legend()\n",
    "    plt.show()\n",
    "    "
   ]
  },
  {
   "cell_type": "markdown",
   "id": "c7958695",
   "metadata": {
    "id": "c7958695"
   },
   "source": [
    "---"
   ]
  },
  {
   "cell_type": "markdown",
   "id": "87b09d7b",
   "metadata": {
    "id": "87b09d7b"
   },
   "source": [
    "# Tarifa VERDE vs FATURA ORIGINAL\n",
    "# DEMANDA ÓTIMA"
   ]
  },
  {
   "cell_type": "code",
   "execution_count": null,
   "id": "b533ad67",
   "metadata": {
    "id": "b533ad67"
   },
   "outputs": [],
   "source": [
    "plt.rc('figure', figsize = (15,5))\n",
    "\n",
    "mes_demanda = '2022-05' \n",
    "mes_inicial_grafico = '2022-05'\n",
    "mes_final = '2022-09'\n",
    "\n",
    "valor_demandas_cumulativas = []\n",
    "demandas_otimas = []\n",
    "demandas_originais = []\n",
    "\n",
    "for i in unidades_set22_grupo_a:\n",
    "    \n",
    "    j = 0\n",
    "    demandas_temporarias = []\n",
    "    valor_demandas_temporarias = []\n",
    "    \n",
    "    df_leitura = df_calculo[df_calculo['Unidade/UFBA'] == i]\n",
    "    df_leitura = df_leitura[df_leitura.index >= mes_demanda]            \n",
    "    \n",
    "    df_leitura['Valor Consumo Ativo na Ponta A4 VERDE 2022'] = \\\n",
    "    df_leitura['Consumos Ativos Na Ponta (KWh)'] * tarifa_a4.at['A4 VERDE 2022', 'Consumo Ativo na Ponta']\n",
    "    \n",
    "    df_leitura['Valor Consumo Ativo Fora Ponta A4 VERDE 2022'] = \\\n",
    "    df_leitura['Consumos Ativos Fora de Ponta (KWh)'] * tarifa_a4.at['A4 VERDE 2022', 'Consumo Ativo Fora Ponta']\n",
    "    \n",
    "    df_leitura['Valor Consumo Reativo Excedente A4 VERDE 2022'] = \\\n",
    "    df_leitura['Consumos Reativos (KWh)'] * tarifa_a4.at['A4 VERDE 2022', 'Consumo Reativo Excedente']\n",
    "    \n",
    "    df_leitura['Valor Demanda Reativa Excedente na Ponta e Fora Ponta A4 VERDE 2022'] = \\\n",
    "    df_leitura['Demandas Reativas Excedentes (KW)']*tarifa_a4.at['A4 VERDE 2022', 'Demanda Reativa Excedente na Ponta e Fora Ponta']\n",
    "        \n",
    "    while j < 800:\n",
    "\n",
    "        j = j+1\n",
    "        df_leitura['demanda_teste'] = j                \n",
    "        \n",
    "        df_leitura['Valor Demanda Ativa A4 VERDE 2022'] = \\\n",
    "        df_leitura['demanda_teste'] * tarifa_a4.at['A4 VERDE 2022', 'Demanda Ativa Fora Ponta']\n",
    "        \n",
    "        df_leitura['Valor Ultrapassagem na Ponta A4 VERDE 2022'] = \\\n",
    "        df_leitura.apply(lambda df_leitura: ultrapassagem_otima_ponta(df_leitura), axis=1) * tarifa_a4.at['A4 VERDE 2022', 'Ultrapassagem na Ponta']\n",
    "        \n",
    "        df_leitura['Valor Ultrapassagem Fora Ponta A4 VERDE 2022'] = \\\n",
    "        df_leitura.apply(lambda df_leitura: ultrapassagem_otima_fora_ponta(df_leitura), axis=1) * tarifa_a4.at['A4 VERDE 2022', 'Ultrapassagem Fora Ponta']\n",
    "        \n",
    "        df_leitura['Valor A4 VERDE 2022 teste'] = (df_leitura['Valor Consumo Ativo na Ponta A4 VERDE 2022'] + \\\n",
    "                                                   df_leitura['Valor Consumo Ativo Fora Ponta A4 VERDE 2022'] + \\\n",
    "                                                   df_leitura['Valor Consumo Reativo Excedente A4 VERDE 2022'] + \\\n",
    "                                                   df_leitura['Valor Demanda Ativa A4 VERDE 2022'] + \\\n",
    "                                                   df_leitura['Valor Demanda Reativa Excedente na Ponta e Fora Ponta A4 VERDE 2022'] + \\\n",
    "                                                   df_leitura['Valor Ultrapassagem na Ponta A4 VERDE 2022'] + \\\n",
    "                                                   df_leitura['Valor Ultrapassagem Fora Ponta A4 VERDE 2022']) / tributos\n",
    "\n",
    "        valor_demandas_temporarias.append(round(df_leitura['Valor A4 VERDE 2022 teste'].mean(), 2))\n",
    "        demandas_temporarias.append(j)\n",
    "        \n",
    "    valor_demandas_cumulativas.append(valor_demandas_temporarias)\n",
    "    \n",
    "    valor_minimo = min(valor_demandas_temporarias)\n",
    "    indice_valor_minimo = valor_demandas_temporarias.index(valor_minimo)    \n",
    "    demanda_otima = demandas_temporarias[indice_valor_minimo]\n",
    "    \n",
    "    if demanda_otima < 30:\n",
    "        demanda_otima = 30\n",
    "        \n",
    "    demandas_otimas.append(demanda_otima)\n",
    "    demandas_originais.append(int(df_leitura.at[mes_final,'Demdas. Ativas Contdas. (DC)']))\n",
    "    df_leitura['demanda_teste'] = demanda_otima        \n",
    "    \n",
    "    df_leitura['Valor Demanda Ativa A4 VERDE 2022'] = \\\n",
    "    df_leitura['demanda_teste'] * tarifa_a4.at['A4 VERDE 2022', 'Demanda Ativa Fora Ponta']\n",
    "    \n",
    "    df_leitura['Valor Ultrapassagem na Ponta A4 VERDE 2022'] = \\\n",
    "    df_leitura.apply(lambda df_leitura: ultrapassagem_otima_ponta(df_leitura), axis=1) * tarifa_a4.at['A4 VERDE 2022', 'Ultrapassagem na Ponta']\n",
    "    \n",
    "    df_leitura['Valor Ultrapassagem Fora Ponta A4 VERDE 2022'] = \\\n",
    "    df_leitura.apply(lambda df_leitura: ultrapassagem_otima_fora_ponta(df_leitura), axis=1) * tarifa_a4.at['A4 VERDE 2022', 'Ultrapassagem Fora Ponta']\n",
    "    \n",
    "    df_leitura['Valor A4 VERDE 2022'] = round((df_leitura['Valor Consumo Ativo na Ponta A4 VERDE 2022'] + \\\n",
    "                                               df_leitura['Valor Consumo Ativo Fora Ponta A4 VERDE 2022'] + \\\n",
    "                                               df_leitura['Valor Consumo Reativo Excedente A4 VERDE 2022'] + \\\n",
    "                                               df_leitura['Valor Demanda Ativa A4 VERDE 2022'] + \\\n",
    "                                               df_leitura['Valor Demanda Reativa Excedente na Ponta e Fora Ponta A4 VERDE 2022'] + \\\n",
    "                                               df_leitura['Valor Ultrapassagem na Ponta A4 VERDE 2022'] + \\\n",
    "                                               df_leitura['Valor Ultrapassagem Fora Ponta A4 VERDE 2022']) / tributos, 2)\n",
    "         \n",
    "    df_grafico = df_leitura[df_leitura.index >= mes_inicial_grafico]\n",
    "    df_grafico = df_grafico[['Valor A4 VERDE 2022', 'Tarifa (R$) A4 VERDE 2022']]\n",
    "    \n",
    "    fig = df_grafico.plot.bar(color =['darkgreen', 'tomato'])\n",
    "\n",
    "    plt.xticks(rotation=0)\n",
    "    fig.set_ylabel('Valor (R$)', {'fontsize': 14})\n",
    "    fig.set_xlabel('Data', {'fontsize': 14})\n",
    "    fig.set_title(i, {'fontsize': 18})\n",
    "    plt.legend(['Valor com D. ótima', 'Valor original'])\n",
    "    plt.show()\n",
    "    print('Demanda ótima: '+str(demanda_otima))\n",
    "    print('Demanda original: '+str(int(df_leitura.at[mes_final,'Demdas. Ativas Contdas. (DC)'])))"
   ]
  },
  {
   "cell_type": "markdown",
   "id": "889396c4",
   "metadata": {
    "id": "889396c4"
   },
   "source": [
    "---"
   ]
  },
  {
   "cell_type": "markdown",
   "id": "469bd8ef",
   "metadata": {
    "id": "469bd8ef"
   },
   "source": [
    "# Curva ótima do Valor da Fatura x Demanda"
   ]
  },
  {
   "cell_type": "code",
   "execution_count": null,
   "id": "8b80284e",
   "metadata": {
    "id": "8b80284e"
   },
   "outputs": [],
   "source": [
    "plt.rc('figure', figsize = (10,1.5))   \n",
    "plt.rcParams['xtick.labelsize'] = 8\n",
    "plt.rcParams['ytick.labelsize'] = 8\n",
    "\n",
    "mes_demanda = '2022-05'\n",
    "contador = 0\n",
    "ordenadas = list(range(0,800))\n",
    "\n",
    "unidades_set22_grupo_a_sort = unidades_set22_grupo_a.copy()\n",
    "unidades_set22_grupo_a_sort.sort()\n",
    "\n",
    "for i in unidades_set22_grupo_a_sort:\n",
    "    \n",
    "    valor_leitura = valor_demandas_cumulativas[contador]\n",
    "    demandas_leitura = demandas_otimas[contador]\n",
    "    \n",
    "    fig = plt.plot(ordenadas, valor_leitura, label='Valor da fatura', marker='', lw=2)\n",
    "    \n",
    "    plt.axvline(x=demandas_otimas[contador], \n",
    "                color = 'purple', \n",
    "                lw=3, alpha=0.4, \n",
    "                label='D. ótima: '+str(demandas_otimas[contador])+' kW')\n",
    "    plt.axvline(x=demandas_originais[contador], \n",
    "                color = 'tomato', \n",
    "                lw=3, alpha=0.4, \n",
    "                label='D. atual: '+str(demandas_originais[contador])+' kW')\n",
    "\n",
    "    contador = contador+1   \n",
    "\n",
    "    plt.xticks(rotation=0)      \n",
    "    plt.legend()\n",
    "    plt.title(i, {'fontsize': 12}, fontweight=\"bold\")\n",
    "    plt.xlabel(\"Demanda (kW)\", {'fontsize': 10})\n",
    "    plt.ylabel(\"R$\", {'fontsize': 10})\n",
    "#     plt.savefig(str(contador)+'.png', pad_inches=0.1, bbox_inches ='tight', facecolor ='w')\n",
    "    plt.show()  \n"
   ]
  },
  {
   "cell_type": "markdown",
   "id": "8cba1907",
   "metadata": {
    "id": "8cba1907"
   },
   "source": [
    "---"
   ]
  },
  {
   "cell_type": "markdown",
   "id": "e1c8da20",
   "metadata": {
    "id": "e1c8da20"
   },
   "source": [
    "# VERDE vs AZUL\n",
    "# DEMANDA ÓTIMA"
   ]
  },
  {
   "cell_type": "code",
   "execution_count": null,
   "id": "45285e17",
   "metadata": {
    "id": "45285e17",
    "scrolled": true
   },
   "outputs": [],
   "source": [
    "plt.rc('figure', figsize = (10,1.5))   \n",
    "plt.rcParams['xtick.labelsize'] = 8\n",
    "plt.rcParams['ytick.labelsize'] = 8\n",
    "contador = 0\n",
    "\n",
    "mes_demanda = '2022-05' \n",
    "mes_inicial_grafico = '2022-05'\n",
    "mes_final = '2022-09'\n",
    "\n",
    "unidades_set22_grupo_a_sort = unidades_set22_grupo_a.copy()\n",
    "unidades_set22_grupo_a_sort.sort()\n",
    "\n",
    "for i in unidades_set22_grupo_a_sort:\n",
    "    \n",
    "    demanda_otima_verde = []\n",
    "    demanda_otima_azul_fora_ponta = []\n",
    "    demanda_otima_azul_na_ponta = []\n",
    "    \n",
    "    df_leitura = df_calculo[df_calculo['Unidade/UFBA'] == i]\n",
    "    df_leitura = df_leitura[df_leitura.index >= mes_demanda] \n",
    "        \n",
    "    for tipo_tarifa in tarifa_a4.index:\n",
    "             \n",
    "        if tipo_tarifa == 'A4 VERDE 2022':\n",
    "            \n",
    "            demandas_temporarias = []\n",
    "            valor_demandas_temporarias = []\n",
    "            j = 0\n",
    "            while j < 800:\n",
    "\n",
    "                j = j+1\n",
    "                df_leitura['demanda_teste'] = j                \n",
    "\n",
    "                df_leitura['Valor Demanda Ativa Fora Ponta '+tipo_tarifa] = \\\n",
    "                df_leitura['demanda_teste'] * tarifa_a4.at[tipo_tarifa, 'Demanda Ativa Fora Ponta']\n",
    "\n",
    "                df_leitura['Valor Ultrapassagem Fora Ponta '+tipo_tarifa] = \\\n",
    "                df_leitura.apply(lambda df_leitura: ultrapassagem_otima_fora_ponta(df_leitura), axis=1) * tarifa_a4.at[tipo_tarifa, 'Ultrapassagem Fora Ponta']\n",
    "\n",
    "                df_leitura['Valor Ultrapassagem na Ponta '+tipo_tarifa] = \\\n",
    "                df_leitura.apply(lambda df_leitura: ultrapassagem_otima_ponta(df_leitura), axis=1) * tarifa_a4.at[tipo_tarifa, 'Ultrapassagem na Ponta']\n",
    "\n",
    "                df_leitura['Valor_1 '+tipo_tarifa] = (df_leitura['Valor Demanda Ativa Fora Ponta '+tipo_tarifa] +  \\\n",
    "                                                       df_leitura['Valor Ultrapassagem Fora Ponta '+tipo_tarifa] + \\\n",
    "                                                       df_leitura['Valor Ultrapassagem na Ponta '+tipo_tarifa]) / tributos\n",
    "\n",
    "                valor_demandas_temporarias.append(round(df_leitura['Valor_1 '+tipo_tarifa].mean(), 2))\n",
    "                demandas_temporarias.append(j)\n",
    "\n",
    "            valor_minimo = min(valor_demandas_temporarias)\n",
    "            indice_valor_minimo = valor_demandas_temporarias.index(valor_minimo)    \n",
    "            demanda_otima = demandas_temporarias[indice_valor_minimo]\n",
    "            \n",
    "            if demanda_otima < 30:\n",
    "                demanda_otima = 30\n",
    "\n",
    "            demanda_otima_verde = str(demanda_otima)            \n",
    "            df_leitura['demanda_teste'] = demanda_otima        \n",
    "\n",
    "            df_leitura['Valor Demanda Ativa Fora Ponta '+tipo_tarifa] = \\\n",
    "            df_leitura['demanda_teste'] * tarifa_a4.at[tipo_tarifa, 'Demanda Ativa Fora Ponta']\n",
    "\n",
    "            df_leitura['Valor Ultrapassagem Fora Ponta '+tipo_tarifa] = \\\n",
    "            df_leitura.apply(lambda df_leitura: ultrapassagem_otima_fora_ponta(df_leitura), axis=1) * tarifa_a4.at[tipo_tarifa, 'Ultrapassagem Fora Ponta']\n",
    "\n",
    "            df_leitura['Valor Ultrapassagem na Ponta '+tipo_tarifa] = \\\n",
    "            df_leitura.apply(lambda df_leitura: ultrapassagem_otima_ponta(df_leitura), axis=1) * tarifa_a4.at[tipo_tarifa, 'Ultrapassagem na Ponta']\n",
    "\n",
    "            df_leitura['Valor_1 '+tipo_tarifa] = (df_leitura['Valor Demanda Ativa Fora Ponta '+tipo_tarifa] +  \\\n",
    "                                                   df_leitura['Valor Ultrapassagem Fora Ponta '+tipo_tarifa] + \\\n",
    "                                                   df_leitura['Valor Ultrapassagem na Ponta '+tipo_tarifa]) / tributos\n",
    "\n",
    "        if tipo_tarifa == 'A4 AZUL 2022':\n",
    "        \n",
    "            demandas_temporarias = []\n",
    "            valor_demandas_temporarias = []        \n",
    "            j = 0\n",
    "            while j < 800:\n",
    "\n",
    "                j = j+1\n",
    "                df_leitura['demanda_teste'] = j                \n",
    "                \n",
    "                df_leitura['Valor Demanda Ativa Fora Ponta '+tipo_tarifa] = \\\n",
    "                df_leitura['demanda_teste'] * tarifa_a4.at[tipo_tarifa, 'Demanda Ativa Fora Ponta']\n",
    "\n",
    "                df_leitura['Valor Ultrapassagem Fora Ponta '+tipo_tarifa] = \\\n",
    "                df_leitura.apply(lambda df_leitura: ultrapassagem_otima_fora_ponta(df_leitura), axis=1) * tarifa_a4.at[tipo_tarifa, 'Ultrapassagem Fora Ponta']\n",
    "                \n",
    "                df_leitura['Valor_2 '+tipo_tarifa] = (df_leitura['Valor Demanda Ativa Fora Ponta '+tipo_tarifa] + \\\n",
    "                                                      df_leitura['Valor Ultrapassagem Fora Ponta '+tipo_tarifa]) / tributos\n",
    "\n",
    "                valor_demandas_temporarias.append(round(df_leitura['Valor_2 '+tipo_tarifa].mean(), 2))\n",
    "                demandas_temporarias.append(j)\n",
    "\n",
    "            valor_minimo = min(valor_demandas_temporarias)\n",
    "            indice_valor_minimo = valor_demandas_temporarias.index(valor_minimo)    \n",
    "            demanda_otima = demandas_temporarias[indice_valor_minimo]\n",
    "\n",
    "            if demanda_otima < 30:\n",
    "                demanda_otima = 30            \n",
    "\n",
    "            demanda_otima_azul_fora_ponta = str(demanda_otima)            \n",
    "            df_leitura['demanda_teste'] = demanda_otima        \n",
    "\n",
    "            df_leitura['Valor Demanda Ativa Fora Ponta '+tipo_tarifa] = \\\n",
    "            df_leitura['demanda_teste'] * tarifa_a4.at[tipo_tarifa, 'Demanda Ativa Fora Ponta']\n",
    "\n",
    "            df_leitura['Valor Ultrapassagem Fora Ponta '+tipo_tarifa] = \\\n",
    "            df_leitura.apply(lambda df_leitura: ultrapassagem_otima_fora_ponta(df_leitura), axis=1) * tarifa_a4.at[tipo_tarifa, 'Ultrapassagem Fora Ponta']\n",
    "\n",
    "            df_leitura['Valor_2 '+tipo_tarifa] = (df_leitura['Valor Demanda Ativa Fora Ponta '+tipo_tarifa] + \\\n",
    "                                                  df_leitura['Valor Ultrapassagem Fora Ponta '+tipo_tarifa]) / tributos\n",
    "\n",
    "            demandas_temporarias = []\n",
    "            valor_demandas_temporarias = []        \n",
    "            j = 0\n",
    "            while j < 800:\n",
    "\n",
    "                j = j+1\n",
    "                df_leitura['demanda_teste'] = j                \n",
    "                \n",
    "                df_leitura['Valor Demanda Ativa na Ponta '+tipo_tarifa] = \\\n",
    "                df_leitura['demanda_teste'] * tarifa_a4.at[tipo_tarifa, 'Demanda Ativa na Ponta']\n",
    "                \n",
    "                df_leitura['Valor Ultrapassagem na Ponta '+tipo_tarifa] = \\\n",
    "                df_leitura.apply(lambda df_leitura: ultrapassagem_otima_ponta(df_leitura), axis=1) * tarifa_a4.at[tipo_tarifa, 'Ultrapassagem na Ponta']\n",
    "                \n",
    "                df_leitura['Valor_1 '+tipo_tarifa] = (df_leitura['Valor Demanda Ativa na Ponta '+tipo_tarifa] + \\\n",
    "                                                      df_leitura['Valor Ultrapassagem na Ponta '+tipo_tarifa]) / tributos\n",
    "\n",
    "                valor_demandas_temporarias.append(round(df_leitura['Valor_1 '+tipo_tarifa].mean(), 2))\n",
    "                demandas_temporarias.append(j)\n",
    "\n",
    "            valor_minimo = min(valor_demandas_temporarias)\n",
    "            indice_valor_minimo = valor_demandas_temporarias.index(valor_minimo)    \n",
    "            demanda_otima = demandas_temporarias[indice_valor_minimo]\n",
    "            \n",
    "            if demanda_otima < 30:\n",
    "                demanda_otima = 30\n",
    "\n",
    "            demanda_otima_azul_na_ponta = str(demanda_otima)            \n",
    "            df_leitura['demanda_teste'] = demanda_otima        \n",
    "\n",
    "            df_leitura['Valor Demanda Ativa na Ponta '+tipo_tarifa] = \\\n",
    "            df_leitura['demanda_teste'] * tarifa_a4.at[tipo_tarifa, 'Demanda Ativa na Ponta']\n",
    "\n",
    "            df_leitura['Valor Ultrapassagem na Ponta '+tipo_tarifa] = \\\n",
    "            df_leitura.apply(lambda df_leitura: ultrapassagem_otima_ponta(df_leitura), axis=1) * tarifa_a4.at[tipo_tarifa, 'Ultrapassagem na Ponta']\n",
    "\n",
    "            df_leitura['Valor_1 '+tipo_tarifa] = ((df_leitura['Valor Demanda Ativa na Ponta '+tipo_tarifa] + \\\n",
    "                                                   df_leitura['Valor Ultrapassagem na Ponta '+tipo_tarifa]) / tributos) +  \\\n",
    "                                                   df_leitura['Valor_2 '+tipo_tarifa]                   \n",
    "                \n",
    "        df_leitura['Valor Consumo Ativo na Ponta '+tipo_tarifa] = \\\n",
    "        df_leitura['Consumos Ativos Na Ponta (KWh)'] * tarifa_a4.at[tipo_tarifa, 'Consumo Ativo na Ponta']\n",
    "        \n",
    "        df_leitura['Valor Consumo Ativo Fora Ponta '+tipo_tarifa] = \\\n",
    "        df_leitura['Consumos Ativos Fora de Ponta (KWh)'] * tarifa_a4.at[tipo_tarifa, 'Consumo Ativo Fora Ponta']\n",
    "        \n",
    "        df_leitura['Valor Consumo Reativo Excedente '+tipo_tarifa] = \\\n",
    "        df_leitura['Consumos Reativos (KWh)'] * tarifa_a4.at[tipo_tarifa, 'Consumo Reativo Excedente']\n",
    "        \n",
    "        df_leitura['Valor Demanda Reativa Excedente na Ponta e Fora Ponta '+tipo_tarifa] = \\\n",
    "        df_leitura['Demandas Reativas Excedentes (KW)']*tarifa_a4.at[tipo_tarifa, 'Demanda Reativa Excedente na Ponta e Fora Ponta']\n",
    "\n",
    "        df_leitura['Valor '+tipo_tarifa] = round((df_leitura['Valor_1 '+tipo_tarifa] + \\\n",
    "                                                  df_leitura['Valor Consumo Ativo na Ponta '+tipo_tarifa] + \\\n",
    "                                                  df_leitura['Valor Consumo Ativo Fora Ponta '+tipo_tarifa] + \\\n",
    "                                                  df_leitura['Valor Consumo Reativo Excedente '+tipo_tarifa] +  \\\n",
    "                                                  df_leitura['Valor Demanda Reativa Excedente na Ponta e Fora Ponta '+tipo_tarifa]) / tributos, 2)\n",
    "        \n",
    "    # As tarifas mudaram o preço em maio 2022\n",
    "    df_grafico = df_leitura[df_leitura.index >= mes_inicial_grafico]\n",
    "    df_grafico = df_grafico[['Valor A4 VERDE 2022', 'Valor A4 AZUL 2022', 'Tarifa (R$) A4 VERDE 2022']]\n",
    "    \n",
    "    fig = df_grafico.plot.bar(color =['darkgreen', 'darkblue', 'darkorange'])\n",
    "    \n",
    "    demanda_original = str(int(df_leitura.at[mes_final,'Demdas. Ativas Contdas. (DC)']))\n",
    "    \n",
    "    plt.xticks(rotation=0)\n",
    "    plt.legend(['Valor A4 Verde', 'Valor A4 Azul', 'Valor Original'], fontsize = 8)\n",
    "    fig.set_ylabel('R$', {'fontsize': 10})\n",
    "    fig.set_xlabel('Demanda ótima Verde e fora ponta Azul: '+demanda_otima_verde+ \\\n",
    "                   ' kW | Demanda ótima na ponta Azul: '+demanda_otima_azul_na_ponta+ \\\n",
    "                   ' kW | Demanda original: '+demanda_original+ \\\n",
    "                   ' kW', {'fontsize': 10})\n",
    "    plt.title(i, {'fontsize': 10}, fontweight=\"bold\")\n",
    "    \n",
    "    contador=contador+1\n",
    "#     plt.savefig(str(contador)+'.png', pad_inches=0.1, bbox_inches ='tight', facecolor ='w') \n",
    "    plt.show()   \n",
    "   \n",
    "    print('Demanda ótima VERDE: '+demanda_otima_verde)\n",
    "    print('Demanda ótima fora ponta AZUL: '+demanda_otima_azul_fora_ponta)\n",
    "    print('Demanda ótima na ponta AZUL: '+demanda_otima_azul_na_ponta)    \n",
    "    print('Demanda original: '+demanda_original)"
   ]
  },
  {
   "cell_type": "markdown",
   "id": "cc17ba2f",
   "metadata": {
    "id": "cc17ba2f"
   },
   "source": [
    "---"
   ]
  },
  {
   "cell_type": "markdown",
   "id": "b9a3d854",
   "metadata": {
    "id": "b9a3d854"
   },
   "source": [
    "# Tarifa B3 vs Fatura Original"
   ]
  },
  {
   "cell_type": "code",
   "execution_count": null,
   "id": "71084f0d",
   "metadata": {
    "id": "71084f0d"
   },
   "outputs": [],
   "source": [
    "# Conferindo se os cálculos estão sendo feitos corretamente. Há uma pequena diferença mas não parece ser erro de cálculo, e sim alguma taxa ou dívida\n",
    "\n",
    "plt.rc('figure', figsize = (15,5))\n",
    "\n",
    "for i in unidades_set22_grupo_b:\n",
    "    \n",
    "    df_leitura = df_calculo[df_calculo['Unidade/UFBA'] == i]    \n",
    "    df_leitura = df_leitura[df_leitura.index >= '2022-05']\n",
    "    \n",
    "    df_leitura = df_leitura[['Tarifa (R$) B3', 'Fatura Original (R$)']]\n",
    "    \n",
    "    fig = df_leitura.plot.bar(color =['darkcyan', 'darkorange'])\n",
    "\n",
    "    plt.xticks(rotation=0)\n",
    "    fig.set_ylabel('Valor (R$)', {'fontsize': 14})\n",
    "    fig.set_xlabel('Data', {'fontsize': 14})\n",
    "    fig.set_title(i, {'fontsize': 18})\n",
    "    plt.legend()\n",
    "    plt.show()"
   ]
  },
  {
   "cell_type": "markdown",
   "id": "94ee252d",
   "metadata": {
    "id": "94ee252d"
   },
   "source": [
    "---"
   ]
  },
  {
   "cell_type": "markdown",
   "id": "e93505a1",
   "metadata": {
    "id": "e93505a1"
   },
   "source": [
    "# Valor Fatura B3 vs A4 VERDE\n",
    "# Somente unidades com menos de 75kW de demanda registrada desde jan2019 "
   ]
  },
  {
   "cell_type": "code",
   "execution_count": null,
   "id": "f238996c",
   "metadata": {
    "id": "f238996c",
    "scrolled": true
   },
   "outputs": [],
   "source": [
    "# Apêndice E\n",
    "\n",
    "plt.rc('figure', figsize = (5,2.5))   \n",
    "plt.rcParams['xtick.labelsize'] = 8\n",
    "plt.rcParams['ytick.labelsize'] = 8\n",
    "\n",
    "contador = 0\n",
    "\n",
    "unidades_set22_grupo_a_75menos_sort = unidades_set22_grupo_a_75menos.copy()\n",
    "unidades_set22_grupo_a_75menos_sort.sort()\n",
    "for i in unidades_set22_grupo_a_75menos_sort:\n",
    "        \n",
    "    df_leitura = df_calculo[df_calculo['Unidade/UFBA'] == i]    \n",
    "    df_leitura = df_leitura[df_leitura.index >= '2022-05']            \n",
    "    df_leitura = df_leitura[['Tarifa (R$) B3', 'Tarifa (R$) A4 VERDE 2022']]\n",
    "    \n",
    "    fig = df_leitura.plot.bar(color =['darkorange', 'darkgreen'], width = 0.7, label=['B3', 'A4 VERDE 2022'])   \n",
    "\n",
    "\n",
    "    plt.xticks(rotation=0)\n",
    "    plt.legend(['Valor B3', 'Valor A4'], fontsize = 8)    \n",
    "    plt.title(i, {'fontsize': 10}, fontweight=\"bold\")\n",
    "    plt.xlabel(\"\", {'fontsize': 10})\n",
    "    plt.ylabel(\"R$\", {'fontsize': 10})\n",
    "    contador=contador+1\n",
    "#     plt.savefig(str(contador)+'.png', pad_inches=0.1, bbox_inches ='tight', facecolor ='w') \n",
    "    plt.show()"
   ]
  },
  {
   "cell_type": "markdown",
   "id": "f4c0a828",
   "metadata": {
    "id": "f4c0a828"
   },
   "source": [
    "---"
   ]
  },
  {
   "cell_type": "markdown",
   "id": "11241c8c",
   "metadata": {
    "id": "11241c8c"
   },
   "source": [
    "### Histórico de faturas do Grupo B"
   ]
  },
  {
   "cell_type": "code",
   "execution_count": null,
   "id": "2e4dc476",
   "metadata": {
    "id": "2e4dc476",
    "scrolled": true
   },
   "outputs": [],
   "source": [
    "plt.rc('figure', figsize = (10,5))   \n",
    "plt.rcParams['xtick.labelsize'] = 8\n",
    "plt.rcParams['ytick.labelsize'] = 8\n",
    "\n",
    "unidades_set22_grupo_b_sort = unidades_set22_grupo_b.copy()\n",
    "unidades_set22_grupo_b_sort.sort()\n",
    "for i in unidades_set22_grupo_b_sort:\n",
    "        \n",
    "    df_leitura = df[df['Unidade/UFBA'] == i]    \n",
    "#     df_leitura = df_leitura[df_leitura.index >= '2022-05']            \n",
    "    df_leitura = df_leitura[['Consu. Ativos  Regist. (CR)']]\n",
    "    \n",
    "    fig = df_leitura.plot.bar(color =['darkorange'], width = 0.7, label=['B3'])   \n",
    "\n",
    "    plt.xticks(rotation=90)\n",
    "    plt.title(i, {'fontsize': 10}, fontweight=\"bold\")\n",
    "    plt.show()"
   ]
  },
  {
   "cell_type": "markdown",
   "id": "a728b17c",
   "metadata": {
    "id": "a728b17c"
   },
   "source": [
    "---"
   ]
  },
  {
   "cell_type": "markdown",
   "id": "ce0c2bc8",
   "metadata": {
    "id": "ce0c2bc8"
   },
   "source": [
    "# - - - - - ECONOMIA - - - - -"
   ]
  },
  {
   "cell_type": "markdown",
   "id": "5e6414e8",
   "metadata": {
    "id": "5e6414e8"
   },
   "source": [
    "---"
   ]
  },
  {
   "cell_type": "markdown",
   "id": "c2b020b7",
   "metadata": {
    "id": "c2b020b7"
   },
   "source": [
    "# Tabela de valores ao mudar de A4 VERDE para B3\n",
    "# Unidades que não passam de 75KWh/mês desde jan2019"
   ]
  },
  {
   "cell_type": "code",
   "execution_count": null,
   "id": "a681d47a",
   "metadata": {
    "id": "a681d47a"
   },
   "outputs": [],
   "source": [
    "df_valores_economizados_grupo_a_vs_b = pd.DataFrame()\n",
    "economia_acumulada = 0\n",
    "contador=0\n",
    "\n",
    "mes_escolhido = '2022-05'\n",
    "\n",
    "unidades_set22_grupo_a_75menos_sort = unidades_set22_grupo_a_75menos.copy()\n",
    "unidades_set22_grupo_a_75menos_sort.sort()\n",
    "for i in unidades_set22_grupo_a_75menos_sort:\n",
    "    \n",
    "    df_leitura = df_calculo[df_calculo['Unidade/UFBA'] == i]    \n",
    "    df_leitura = df_leitura[df_leitura.index >= mes_escolhido]    \n",
    "        \n",
    "    total_tarifa_b3 = df_leitura['Tarifa (R$) B3'].sum()    \n",
    "    total_tarifa_a4 = df_leitura['Tarifa (R$) A4 VERDE 2022'].sum()\\\n",
    "    \n",
    "    if total_tarifa_b3 < total_tarifa_a4:            \n",
    "        \n",
    "        economia_valor =  total_tarifa_a4 - total_tarifa_b3\n",
    "        economia_valor = round(economia_valor,2)\n",
    "        \n",
    "        economia_porcentagem = -100*(total_tarifa_b3 - total_tarifa_a4)/total_tarifa_a4\n",
    "        economia_porcentagem = round(economia_porcentagem,2)\n",
    "        \n",
    "        economia_acumulada = economia_acumulada + economia_valor\n",
    "               \n",
    "        df_valores_economizados_grupo_a_vs_b.at[i,'Economia Total (%)'] = economia_porcentagem\n",
    "        df_valores_economizados_grupo_a_vs_b.at[i,'Economia Total (R$)'] = economia_valor\n",
    "        df_valores_economizados_grupo_a_vs_b.at[i,'Economia por mês (R$)'] = round(economia_valor/5,2)\n",
    "                \n",
    "economia_acumulada = round(economia_acumulada,2)\n",
    "print()\n",
    "print('- - - - - - - - - - - - - - - - - - - - -')\n",
    "print('Total economizado no período: R$ '+str(economia_acumulada))\n",
    "print('- - - - - - - - - - - - - - - - - - - - -')\n",
    "\n",
    "df_valores_economizados_grupo_a_vs_b"
   ]
  },
  {
   "cell_type": "markdown",
   "id": "7ff1d8d8",
   "metadata": {
    "id": "7ff1d8d8"
   },
   "source": [
    "### Exportando para XSLX a tabela dos valores economizados ao mudar de A4 VERDE para B3 "
   ]
  },
  {
   "cell_type": "code",
   "execution_count": null,
   "id": "f1bb623b",
   "metadata": {
    "id": "f1bb623b"
   },
   "outputs": [],
   "source": [
    "# df_valores_economizados_grupo_a_vs_b.to_excel('df_valores_economizados_grupo_a_vs_b.xlsx')"
   ]
  },
  {
   "cell_type": "markdown",
   "id": "f093b60e",
   "metadata": {
    "id": "f093b60e"
   },
   "source": [
    "---"
   ]
  },
  {
   "cell_type": "markdown",
   "id": "b0cf8af3",
   "metadata": {
    "id": "b0cf8af3"
   },
   "source": [
    "# Tabela de valores se a demanda contratada fosse a DEMANDA ÓTIMA\n",
    "# Considerando o mínimo contratado de 30 kW"
   ]
  },
  {
   "cell_type": "code",
   "execution_count": null,
   "id": "24bbcc66",
   "metadata": {
    "id": "24bbcc66",
    "scrolled": false
   },
   "outputs": [],
   "source": [
    "df_valores_economizados_demanda = pd.DataFrame()\n",
    "economia_acumulada = 0\n",
    "contador=0\n",
    "\n",
    "mes_demanda = '2022-05' \n",
    "mes_inicial = '2022-05'\n",
    "mes_final = '2022-09'\n",
    "\n",
    "unidades_set22_grupo_a_sort = unidades_set22_grupo_a.copy()\n",
    "unidades_set22_grupo_a_sort.sort()\n",
    "\n",
    "for i in unidades_set22_grupo_a_sort:\n",
    "    \n",
    "    j = 0\n",
    "    demandas_temporarias = []\n",
    "    valor_demandas_temporarias = []    \n",
    "    df_leitura = df_calculo[df_calculo['Unidade/UFBA'] == i]\n",
    "    df_leitura = df_leitura[df_leitura.index >= mes_demanda]            \n",
    "    \n",
    "    df_leitura['Valor Consumo Ativo na Ponta A4 VERDE 2022'] = \\\n",
    "    df_leitura['Consumos Ativos Na Ponta (KWh)'] * tarifa_a4.at['A4 VERDE 2022', 'Consumo Ativo na Ponta']\n",
    "    \n",
    "    df_leitura['Valor Consumo Ativo Fora Ponta A4 VERDE 2022'] = \\\n",
    "    df_leitura['Consumos Ativos Fora de Ponta (KWh)'] * tarifa_a4.at['A4 VERDE 2022', 'Consumo Ativo Fora Ponta']\n",
    "    \n",
    "    df_leitura['Valor Consumo Reativo Excedente A4 VERDE 2022'] = \\\n",
    "    df_leitura['Consumos Reativos (KWh)'] * tarifa_a4.at['A4 VERDE 2022', 'Consumo Reativo Excedente']\n",
    "    \n",
    "    df_leitura['Valor Demanda Reativa Excedente na Ponta e Fora Ponta A4 VERDE 2022'] = \\\n",
    "    df_leitura['Demandas Reativas Excedentes (KW)']*tarifa_a4.at['A4 VERDE 2022', 'Demanda Reativa Excedente na Ponta e Fora Ponta']\n",
    "        \n",
    "    while j < 800:\n",
    "\n",
    "        j = j+1\n",
    "        df_leitura['demanda_teste'] = j                \n",
    "        \n",
    "        df_leitura['Valor Demanda Ativa A4 VERDE 2022'] = \\\n",
    "        df_leitura['demanda_teste'] * tarifa_a4.at['A4 VERDE 2022', 'Demanda Ativa Fora Ponta']\n",
    "        \n",
    "        df_leitura['Valor Ultrapassagem na Ponta A4 VERDE 2022'] = \\\n",
    "        df_leitura.apply(lambda df_leitura: ultrapassagem_otima_ponta(df_leitura), axis=1) * tarifa_a4.at['A4 VERDE 2022', 'Ultrapassagem na Ponta']\n",
    "        \n",
    "        df_leitura['Valor Ultrapassagem Fora Ponta A4 VERDE 2022'] = \\\n",
    "        df_leitura.apply(lambda df_leitura: ultrapassagem_otima_fora_ponta(df_leitura), axis=1) * tarifa_a4.at['A4 VERDE 2022', 'Ultrapassagem Fora Ponta']\n",
    "        \n",
    "        df_leitura['Valor A4 VERDE 2022 teste'] = (df_leitura['Valor Consumo Ativo na Ponta A4 VERDE 2022'] + \\\n",
    "                                                   df_leitura['Valor Consumo Ativo Fora Ponta A4 VERDE 2022'] + \\\n",
    "                                                   df_leitura['Valor Consumo Reativo Excedente A4 VERDE 2022'] + \\\n",
    "                                                   df_leitura['Valor Demanda Ativa A4 VERDE 2022'] + \\\n",
    "                                                   df_leitura['Valor Demanda Reativa Excedente na Ponta e Fora Ponta A4 VERDE 2022'] + \\\n",
    "                                                   df_leitura['Valor Ultrapassagem na Ponta A4 VERDE 2022'] + \\\n",
    "                                                   df_leitura['Valor Ultrapassagem Fora Ponta A4 VERDE 2022']) / tributos\n",
    "\n",
    "        valor_demandas_temporarias.append(round(df_leitura['Valor A4 VERDE 2022 teste'].mean(), 2))\n",
    "        demandas_temporarias.append(j)\n",
    "            \n",
    "    valor_minimo = min(valor_demandas_temporarias)\n",
    "    indice_valor_minimo = valor_demandas_temporarias.index(valor_minimo)    \n",
    "    demanda_otima = demandas_temporarias[indice_valor_minimo]\n",
    "    \n",
    "    if demanda_otima < 30:\n",
    "        demanda_otima = 30\n",
    "        \n",
    "    df_leitura['demanda_teste'] = demanda_otima        \n",
    "    df_leitura['Valor Demanda Ativa A4 VERDE 2022'] = \\\n",
    "    df_leitura['demanda_teste'] * tarifa_a4.at['A4 VERDE 2022', 'Demanda Ativa Fora Ponta']\n",
    "    \n",
    "    df_leitura['Valor Ultrapassagem na Ponta A4 VERDE 2022'] = \\\n",
    "    df_leitura.apply(lambda df_leitura: ultrapassagem_otima_ponta(df_leitura), axis=1) * \\\n",
    "    tarifa_a4.at['A4 VERDE 2022', 'Ultrapassagem na Ponta']\n",
    "    \n",
    "    df_leitura['Valor Ultrapassagem Fora Ponta A4 VERDE 2022'] = \\\n",
    "    df_leitura.apply(lambda df_leitura: ultrapassagem_otima_fora_ponta(df_leitura), axis=1) * \\\n",
    "    tarifa_a4.at['A4 VERDE 2022', 'Ultrapassagem Fora Ponta']\n",
    "    \n",
    "    df_leitura['Valor A4 VERDE 2022'] = round((df_leitura['Valor Consumo Ativo na Ponta A4 VERDE 2022'] + \\\n",
    "                                               df_leitura['Valor Consumo Ativo Fora Ponta A4 VERDE 2022'] + \\\n",
    "                                               df_leitura['Valor Consumo Reativo Excedente A4 VERDE 2022'] + \\\n",
    "                                               df_leitura['Valor Demanda Ativa A4 VERDE 2022'] + \\\n",
    "                                               df_leitura['Valor Demanda Reativa Excedente na Ponta e Fora Ponta A4 VERDE 2022'] + \\\n",
    "                                               df_leitura['Valor Ultrapassagem na Ponta A4 VERDE 2022'] + \\\n",
    "                                               df_leitura['Valor Ultrapassagem Fora Ponta A4 VERDE 2022']) / tributos, 2)\n",
    "         \n",
    "    # As tarifas mudaram o preço em maio 2022\n",
    "    df_economia = df_leitura[df_leitura.index >= mes_inicial]\n",
    "    \n",
    "    total_tarifa_original = df_economia['Tarifa (R$) A4 VERDE 2022'].sum()       \n",
    "    total_tarifa_a4 = df_economia['Valor A4 VERDE 2022'].sum()\n",
    "        \n",
    "    economia_valor =  total_tarifa_original - total_tarifa_a4\n",
    "    economia_valor = round(economia_valor,2)\n",
    "\n",
    "    economia_porcentagem = -100*(total_tarifa_a4 - total_tarifa_original)/total_tarifa_original\n",
    "    economia_porcentagem = round(economia_porcentagem,2)\n",
    "\n",
    "    economia_acumulada = economia_acumulada + economia_valor\n",
    "\n",
    "    demanda_atual = int(df_leitura.at[mes_final,'Demdas. Ativas Contdas. (DC)'])\n",
    "        \n",
    "    df_valores_economizados_demanda.at[i,'Demanda Ótima (kW)'] = demanda_otima\n",
    "    df_valores_economizados_demanda.at[i,'Demanda Atual (kW)'] = demanda_atual\n",
    "    df_valores_economizados_demanda.at[i,'Economia Total (%)'] = economia_porcentagem\n",
    "    df_valores_economizados_demanda.at[i,'Economia Total (R$)'] = economia_valor\n",
    "    df_valores_economizados_demanda.at[i,'Economia por mês (R$)'] = round(economia_valor/5,2)\n",
    "        \n",
    "economia_acumulada = round(economia_acumulada,2)\n",
    "print('- - - - - - - - - - - - - - - - - - - -')\n",
    "print('Total economizado no período: R$ '+str(economia_acumulada))\n",
    "print('- - - - - - - - - - - - - - - - - - - -')\n",
    "df_valores_economizados_demanda"
   ]
  },
  {
   "cell_type": "markdown",
   "id": "1d18d4b0",
   "metadata": {
    "id": "1d18d4b0"
   },
   "source": [
    "### Exportando para XSLX tabela dos valores economizados com a DEMANDA ÓTIMA"
   ]
  },
  {
   "cell_type": "code",
   "execution_count": null,
   "id": "743ce8c8",
   "metadata": {
    "id": "743ce8c8"
   },
   "outputs": [],
   "source": [
    "# df_valores_economizados_demanda.to_excel('df_valores_economizados_demanda.xlsx')"
   ]
  },
  {
   "cell_type": "markdown",
   "id": "9bbe25e2",
   "metadata": {
    "id": "9bbe25e2"
   },
   "source": [
    "---"
   ]
  },
  {
   "cell_type": "markdown",
   "id": "6e1e73cb",
   "metadata": {
    "id": "6e1e73cb"
   },
   "source": [
    "### GRUPO A - VERDE para AZUL\n",
    "#### Quanto economizaria se mudasse o grupo tarifário para AZUL"
   ]
  },
  {
   "cell_type": "markdown",
   "id": "6e9394cf",
   "metadata": {
    "id": "6e9394cf"
   },
   "source": [
    "Não economizaria"
   ]
  },
  {
   "cell_type": "markdown",
   "id": "85aa2fb9",
   "metadata": {
    "id": "85aa2fb9"
   },
   "source": [
    "---"
   ]
  },
  {
   "cell_type": "markdown",
   "id": "0852a1c6",
   "metadata": {
    "id": "0852a1c6"
   },
   "source": [
    "### Criando Figuras para o texto"
   ]
  },
  {
   "cell_type": "code",
   "execution_count": null,
   "id": "29569977",
   "metadata": {
    "id": "29569977"
   },
   "outputs": [],
   "source": [
    "# Figura 2\n",
    "# Fatura calculada vs Fatura Oritinal\n",
    "# BEX – Biblioteca Universitária de Exatas Omar Catunda\n",
    "\n",
    "plt.rc('figure', figsize = (10,5))   \n",
    "plt.rcParams['xtick.labelsize'] = 12\n",
    "plt.rcParams['ytick.labelsize'] = 12\n",
    "contador = 0\n",
    "\n",
    "i = 'BEX - Biblioteca Universitária de Exatas Omar Catunda'\n",
    "    \n",
    "df_leitura = df_calculo[df_calculo['Unidade/UFBA'] == i]    \n",
    "df_leitura = df_leitura[df_leitura.index >= '2022-05']\n",
    "\n",
    "df_leitura = df_leitura[['Tarifa (R$) A4 VERDE 2022', 'Fatura Original (R$)']]\n",
    "\n",
    "df_leitura.plot.bar(color =['darkgreen', 'darkorange'], width = 0.7)\n",
    "\n",
    "plt.xticks(rotation=0)\n",
    "plt.legend(['Valor calculado', 'Valor original'], fontsize = 12)\n",
    "plt.xlabel(\"Mês/ano\", {'fontsize': 12})\n",
    "plt.ylabel(\"R$\", {'fontsize': 12})\n",
    "\n",
    "contador=contador+1\n",
    "# plt.savefig('Figuras\\Figura 2.png', pad_inches=0.1, bbox_inches ='tight', facecolor ='w') \n",
    "plt.show()    "
   ]
  },
  {
   "cell_type": "code",
   "execution_count": null,
   "id": "f112b80f",
   "metadata": {
    "id": "f112b80f",
    "scrolled": false
   },
   "outputs": [],
   "source": [
    "# Figura 3\n",
    "# Demanda contratada e registrada. 75 kW ou menos\n",
    "# Unidade que poderia ser Grupo B\n",
    "\n",
    "plt.rc('figure', figsize = (10,5))   \n",
    "plt.rcParams['xtick.labelsize'] = 10\n",
    "plt.rcParams['ytick.labelsize'] = 10\n",
    "\n",
    "contador = 0\n",
    "\n",
    "i = 'CEAB - FACULDADE DE ARQUITETURA E URBANISMO'\n",
    "    \n",
    "df_leitura = df[df['Unidade/UFBA'] == i]\n",
    "df_leitura = df_leitura[df_leitura.index >= '2019-01']   \n",
    "df_leitura1 = df_leitura[['Demdas. Ativas Contdas. (DC)']]\n",
    "df_leitura2 = df_leitura[['Demandas Ativas Registradas Na Ponta -  (KW)', 'Demandas Ativas Registradas Fora de Ponta -  (KW)']]\n",
    "\n",
    "ax = df_leitura1.plot(kind='bar', color='gray', alpha=0.3, width = .8)\n",
    "df_leitura2.plot(kind='line', ax=ax, color=('red', 'green'), lw=2)\n",
    "\n",
    "plt.axhline(y=75, color = 'purple', lw=2, alpha=0.5, label='75 kW')\n",
    "\n",
    "plt.xticks(rotation=90)\n",
    "plt.legend(['Demanda ativa na ponta', 'Demanda ativa fora de ponta', '75 kW', 'Demanda ativa contratada'], fontsize = 10)          \n",
    "plt.xlabel(\"Mês/ano\", {'fontsize': 12})\n",
    "plt.ylabel(\"kW\", {'fontsize': 12})\n",
    "contador = contador + 1\n",
    "# plt.savefig('Figuras\\Figura 3.png', pad_inches=0.1, bbox_inches ='tight', facecolor ='w')\n",
    "plt.show()"
   ]
  },
  {
   "cell_type": "code",
   "execution_count": null,
   "id": "7abb6660",
   "metadata": {
    "id": "7abb6660"
   },
   "outputs": [],
   "source": [
    "# Figura 4\n",
    "# Demanda contratada e registrada.\n",
    "\n",
    "plt.rc('figure', figsize = (10,5))   \n",
    "plt.rcParams['xtick.labelsize'] = 8\n",
    "plt.rcParams['ytick.labelsize'] = 10\n",
    "\n",
    "i = 'PAF V - Pavilhão de Aulas da Federação V'\n",
    "\n",
    "df_leitura = df[df['Unidade/UFBA'] == i]    \n",
    "df_leitura = df_leitura[df_leitura.index >= '2017-09']\n",
    "df_leitura1 = df_leitura[['Demdas. Ativas Contdas. (DC)']]\n",
    "df_leitura2 = df_leitura[['Demandas Ativas Registradas Na Ponta -  (KW)', 'Demandas Ativas Registradas Fora de Ponta -  (KW)']]\n",
    "\n",
    "fig = df_leitura1.plot(kind='bar', color='olive', alpha=0.3, width = .8)\n",
    "df_leitura2.plot(kind='line', ax=fig, color=('red','green'), lw=3)\n",
    "\n",
    "plt.xticks(rotation=90)\n",
    "plt.legend(['Demanda ativa na ponta', 'Demanda ativa fora de ponta', 'Demanda ativa contratada'], fontsize = 10)\n",
    "plt.xlabel(\"Mês/ano\", {'fontsize': 10})\n",
    "plt.ylabel(\"kW\", {'fontsize': 10})\n",
    "# plt.savefig('Figuras\\Figura 4.png', pad_inches=0.1, bbox_inches ='tight', facecolor ='w')\n",
    "plt.show()"
   ]
  },
  {
   "cell_type": "code",
   "execution_count": null,
   "id": "ead827d3",
   "metadata": {
    "id": "ead827d3"
   },
   "outputs": [],
   "source": [
    "# Figura 5\n",
    "# Consumo ativo ponta e fora de ponta\n",
    "\n",
    "plt.rc('figure', figsize = (10,5))   \n",
    "plt.rcParams['xtick.labelsize'] = 10\n",
    "plt.rcParams['ytick.labelsize'] = 10\n",
    "\n",
    "i = 'ESCOLA POLITÉCNICA'\n",
    "\n",
    "df_leitura = df[df['Unidade/UFBA'] == i]\n",
    "df_leitura = df_leitura[df_leitura.index >= '2019-01']\n",
    "df_grafico_1 = df_leitura[['Consumos Ativos (KWh)']]\n",
    "df_grafico_2 = df_leitura[['Consumos Ativos Fora de Ponta (KWh)', 'Consumos Ativos Na Ponta (KWh)']]\n",
    "\n",
    "ax = df_grafico_1.plot(kind='bar', color='blue', alpha=0.25, width = .8)\n",
    "df_grafico_2.plot(kind='line', ax=ax, color=('green','tomato'), lw=2)\n",
    "\n",
    "plt.xticks(rotation=90)\n",
    "plt.legend(['Consumo ativo fora de ponta', 'Consumo ativo na ponta', 'Consumo ativo total'], fontsize = 10)       \n",
    "plt.xlabel(\"Mês/ano\", {'fontsize': 10})\n",
    "plt.ylabel(\"kWh\", {'fontsize': 10})\n",
    "# plt.savefig('Figuras\\Figura 5.png', pad_inches=0.1, bbox_inches ='tight', facecolor ='w')\n",
    "plt.show()"
   ]
  },
  {
   "cell_type": "code",
   "execution_count": null,
   "id": "b4486141",
   "metadata": {
    "id": "b4486141"
   },
   "outputs": [],
   "source": [
    "# Figura 6\n",
    "\n",
    "plt.rc('figure', figsize = (10,5))   \n",
    "plt.rcParams['xtick.labelsize'] = 10\n",
    "plt.rcParams['ytick.labelsize'] = 10\n",
    "    \n",
    "i = 'CEAB - FACULDADE DE ARQUITETURA E URBANISMO'\n",
    "        \n",
    "df_leitura = df_calculo[df_calculo['Unidade/UFBA'] == i]    \n",
    "df_leitura = df_leitura[df_leitura.index >= '2022-05']            \n",
    "df_leitura = df_leitura[['Tarifa (R$) B3', 'Tarifa (R$) A4 VERDE 2022']] \n",
    "\n",
    "fig = df_leitura.plot.bar(color =['darkorange', 'darkgreen'], width = 0.7)\n",
    "\n",
    "plt.xticks(rotation=0)\n",
    "plt.legend(['Valor fatura em B3', 'Valor fatura em A4 VERDE'], fontsize = 10)\n",
    "plt.xlabel(\"Mês/ano\", {'fontsize': 10})\n",
    "plt.ylabel(\"R$\", {'fontsize': 10})\n",
    "# plt.savefig('Figuras/Figura 6.png', pad_inches=0.1, bbox_inches ='tight', facecolor ='w') \n",
    "plt.show()"
   ]
  },
  {
   "cell_type": "code",
   "execution_count": null,
   "id": "3fcc5078",
   "metadata": {
    "id": "3fcc5078"
   },
   "outputs": [],
   "source": [
    "# Figura 7\n",
    "# Curva de faturas\n",
    "\n",
    "plt.rc('figure', figsize = (10,5))   \n",
    "plt.rcParams['xtick.labelsize'] = 10\n",
    "plt.rcParams['ytick.labelsize'] = 10\n",
    "\n",
    "mes_demanda = '2022-05'\n",
    "contador = 0\n",
    "ordenadas = list(range(0,800))\n",
    "\n",
    "i = 'PAF V - Pavilhão de Aulas da Federação V'\n",
    "    \n",
    "valor_leitura = valor_demandas_cumulativas[contador]\n",
    "demandas_leitura = demandas_otimas[contador]\n",
    "\n",
    "fig = plt.plot(ordenadas, valor_leitura, label='Valor da fatura', marker='', lw=2)\n",
    "\n",
    "plt.axvline(x=demandas_otimas[contador], \n",
    "            color = 'purple', \n",
    "            lw=3, alpha=0.4, \n",
    "            label='Demanda ativa ótima: '+str(demandas_otimas[contador])+' kW')\n",
    "plt.axvline(x=demandas_originais[contador], \n",
    "            color = 'tomato', \n",
    "            lw=3, alpha=0.4, \n",
    "            label='Demanda ativa contrada atual: '+str(demandas_originais[contador])+' kW')\n",
    "\n",
    "contador = contador+1   \n",
    "\n",
    "plt.xticks(rotation=0)      \n",
    "plt.legend(loc=2)\n",
    "plt.xlabel(\"Demanda (kW)\", {'fontsize': 10})\n",
    "plt.ylabel(\"R$\", {'fontsize': 10})\n",
    "# plt.savefig('Figuras/Figura 7.png', pad_inches=0.1, bbox_inches ='tight', facecolor ='w')\n",
    "plt.show()  "
   ]
  },
  {
   "cell_type": "code",
   "execution_count": null,
   "id": "3a84c7ac",
   "metadata": {
    "id": "3a84c7ac"
   },
   "outputs": [],
   "source": [
    "# Figura 8\n",
    "\n",
    "plt.rc('figure', figsize = (10,5))   \n",
    "plt.rcParams['xtick.labelsize'] = 10\n",
    "plt.rcParams['ytick.labelsize'] = 10\n",
    "\n",
    "mes_demanda = '2022-05' \n",
    "mes_inicial_grafico = '2022-05'\n",
    "mes_final = '2022-09'\n",
    "\n",
    "i = 'ESCOLA POLITÉCNICA'\n",
    "    \n",
    "demanda_otima_verde = []\n",
    "demanda_otima_azul_fora_ponta = []\n",
    "demanda_otima_azul_na_ponta = []\n",
    "\n",
    "df_leitura = df_calculo[df_calculo['Unidade/UFBA'] == i]\n",
    "df_leitura = df_leitura[df_leitura.index >= mes_demanda] \n",
    "\n",
    "for tipo_tarifa in tarifa_a4.index:\n",
    "\n",
    "    if tipo_tarifa == 'A4 VERDE 2022':\n",
    "\n",
    "        demandas_temporarias = []\n",
    "        valor_demandas_temporarias = []\n",
    "        j = 0\n",
    "        while j < 800:\n",
    "\n",
    "            j = j+1\n",
    "            df_leitura['demanda_teste'] = j                \n",
    "\n",
    "            df_leitura['Valor Demanda Ativa Fora Ponta '+tipo_tarifa] = \\\n",
    "            df_leitura['demanda_teste'] * tarifa_a4.at[tipo_tarifa, 'Demanda Ativa Fora Ponta']\n",
    "\n",
    "            df_leitura['Valor Ultrapassagem Fora Ponta '+tipo_tarifa] = \\\n",
    "            df_leitura.apply(lambda df_leitura: ultrapassagem_otima_fora_ponta(df_leitura), axis=1) * tarifa_a4.at[tipo_tarifa, 'Ultrapassagem Fora Ponta']\n",
    "\n",
    "            df_leitura['Valor Ultrapassagem na Ponta '+tipo_tarifa] = \\\n",
    "            df_leitura.apply(lambda df_leitura: ultrapassagem_otima_ponta(df_leitura), axis=1) * tarifa_a4.at[tipo_tarifa, 'Ultrapassagem na Ponta']\n",
    "\n",
    "            df_leitura['Valor_1 '+tipo_tarifa] = (df_leitura['Valor Demanda Ativa Fora Ponta '+tipo_tarifa] +  \\\n",
    "                                                   df_leitura['Valor Ultrapassagem Fora Ponta '+tipo_tarifa] + \\\n",
    "                                                   df_leitura['Valor Ultrapassagem na Ponta '+tipo_tarifa]) / tributos\n",
    "\n",
    "            valor_demandas_temporarias.append(round(df_leitura['Valor_1 '+tipo_tarifa].mean(), 2))\n",
    "            demandas_temporarias.append(j)\n",
    "\n",
    "        valor_minimo = min(valor_demandas_temporarias)\n",
    "        indice_valor_minimo = valor_demandas_temporarias.index(valor_minimo)    \n",
    "        demanda_otima = demandas_temporarias[indice_valor_minimo]\n",
    "\n",
    "        if demanda_otima < 30:\n",
    "            demanda_otima = 30\n",
    "\n",
    "        demanda_otima_verde = str(demanda_otima)            \n",
    "        df_leitura['demanda_teste'] = demanda_otima        \n",
    "\n",
    "        df_leitura['Valor Demanda Ativa Fora Ponta '+tipo_tarifa] = \\\n",
    "        df_leitura['demanda_teste'] * tarifa_a4.at[tipo_tarifa, 'Demanda Ativa Fora Ponta']\n",
    "\n",
    "        df_leitura['Valor Ultrapassagem Fora Ponta '+tipo_tarifa] = \\\n",
    "        df_leitura.apply(lambda df_leitura: ultrapassagem_otima_fora_ponta(df_leitura), axis=1) * tarifa_a4.at[tipo_tarifa, 'Ultrapassagem Fora Ponta']\n",
    "\n",
    "        df_leitura['Valor Ultrapassagem na Ponta '+tipo_tarifa] = \\\n",
    "        df_leitura.apply(lambda df_leitura: ultrapassagem_otima_ponta(df_leitura), axis=1) * tarifa_a4.at[tipo_tarifa, 'Ultrapassagem na Ponta']\n",
    "\n",
    "        df_leitura['Valor_1 '+tipo_tarifa] = (df_leitura['Valor Demanda Ativa Fora Ponta '+tipo_tarifa] +  \\\n",
    "                                               df_leitura['Valor Ultrapassagem Fora Ponta '+tipo_tarifa] + \\\n",
    "                                               df_leitura['Valor Ultrapassagem na Ponta '+tipo_tarifa]) / tributos\n",
    "\n",
    "    if tipo_tarifa == 'A4 AZUL 2022':\n",
    "\n",
    "        demandas_temporarias = []\n",
    "        valor_demandas_temporarias = []        \n",
    "        j = 0\n",
    "        while j < 800:\n",
    "\n",
    "            j = j+1\n",
    "            df_leitura['demanda_teste'] = j                \n",
    "\n",
    "            df_leitura['Valor Demanda Ativa Fora Ponta '+tipo_tarifa] = \\\n",
    "            df_leitura['demanda_teste'] * tarifa_a4.at[tipo_tarifa, 'Demanda Ativa Fora Ponta']\n",
    "\n",
    "            df_leitura['Valor Ultrapassagem Fora Ponta '+tipo_tarifa] = \\\n",
    "            df_leitura.apply(lambda df_leitura: ultrapassagem_otima_fora_ponta(df_leitura), axis=1) * tarifa_a4.at[tipo_tarifa, 'Ultrapassagem Fora Ponta']\n",
    "\n",
    "            df_leitura['Valor_2 '+tipo_tarifa] = (df_leitura['Valor Demanda Ativa Fora Ponta '+tipo_tarifa] + \\\n",
    "                                                  df_leitura['Valor Ultrapassagem Fora Ponta '+tipo_tarifa]) / tributos\n",
    "\n",
    "            valor_demandas_temporarias.append(round(df_leitura['Valor_2 '+tipo_tarifa].mean(), 2))\n",
    "            demandas_temporarias.append(j)\n",
    "\n",
    "        valor_minimo = min(valor_demandas_temporarias)\n",
    "        indice_valor_minimo = valor_demandas_temporarias.index(valor_minimo)    \n",
    "        demanda_otima = demandas_temporarias[indice_valor_minimo]\n",
    "\n",
    "        if demanda_otima < 30:\n",
    "            demanda_otima = 30            \n",
    "\n",
    "        demanda_otima_azul_fora_ponta = str(demanda_otima)            \n",
    "        df_leitura['demanda_teste'] = demanda_otima        \n",
    "\n",
    "        df_leitura['Valor Demanda Ativa Fora Ponta '+tipo_tarifa] = \\\n",
    "        df_leitura['demanda_teste'] * tarifa_a4.at[tipo_tarifa, 'Demanda Ativa Fora Ponta']\n",
    "\n",
    "        df_leitura['Valor Ultrapassagem Fora Ponta '+tipo_tarifa] = \\\n",
    "        df_leitura.apply(lambda df_leitura: ultrapassagem_otima_fora_ponta(df_leitura), axis=1) * tarifa_a4.at[tipo_tarifa, 'Ultrapassagem Fora Ponta']\n",
    "\n",
    "        df_leitura['Valor_2 '+tipo_tarifa] = (df_leitura['Valor Demanda Ativa Fora Ponta '+tipo_tarifa] + \\\n",
    "                                              df_leitura['Valor Ultrapassagem Fora Ponta '+tipo_tarifa]) / tributos\n",
    "\n",
    "        demandas_temporarias = []\n",
    "        valor_demandas_temporarias = []        \n",
    "        j = 0\n",
    "        while j < 800:\n",
    "\n",
    "            j = j+1\n",
    "            df_leitura['demanda_teste'] = j                \n",
    "\n",
    "            df_leitura['Valor Demanda Ativa na Ponta '+tipo_tarifa] = \\\n",
    "            df_leitura['demanda_teste'] * tarifa_a4.at[tipo_tarifa, 'Demanda Ativa na Ponta']\n",
    "\n",
    "            df_leitura['Valor Ultrapassagem na Ponta '+tipo_tarifa] = \\\n",
    "            df_leitura.apply(lambda df_leitura: ultrapassagem_otima_ponta(df_leitura), axis=1) * tarifa_a4.at[tipo_tarifa, 'Ultrapassagem na Ponta']\n",
    "\n",
    "            df_leitura['Valor_1 '+tipo_tarifa] = (df_leitura['Valor Demanda Ativa na Ponta '+tipo_tarifa] + \\\n",
    "                                                  df_leitura['Valor Ultrapassagem na Ponta '+tipo_tarifa]) / tributos\n",
    "\n",
    "            valor_demandas_temporarias.append(round(df_leitura['Valor_1 '+tipo_tarifa].mean(), 2))\n",
    "            demandas_temporarias.append(j)\n",
    "\n",
    "        valor_minimo = min(valor_demandas_temporarias)\n",
    "        indice_valor_minimo = valor_demandas_temporarias.index(valor_minimo)    \n",
    "        demanda_otima = demandas_temporarias[indice_valor_minimo]\n",
    "\n",
    "        if demanda_otima < 30:\n",
    "            demanda_otima = 30\n",
    "\n",
    "        demanda_otima_azul_na_ponta = str(demanda_otima)            \n",
    "        df_leitura['demanda_teste'] = demanda_otima        \n",
    "\n",
    "        df_leitura['Valor Demanda Ativa na Ponta '+tipo_tarifa] = \\\n",
    "        df_leitura['demanda_teste'] * tarifa_a4.at[tipo_tarifa, 'Demanda Ativa na Ponta']\n",
    "\n",
    "        df_leitura['Valor Ultrapassagem na Ponta '+tipo_tarifa] = \\\n",
    "        df_leitura.apply(lambda df_leitura: ultrapassagem_otima_ponta(df_leitura), axis=1) * tarifa_a4.at[tipo_tarifa, 'Ultrapassagem na Ponta']\n",
    "\n",
    "        df_leitura['Valor_1 '+tipo_tarifa] = ((df_leitura['Valor Demanda Ativa na Ponta '+tipo_tarifa] + \\\n",
    "                                               df_leitura['Valor Ultrapassagem na Ponta '+tipo_tarifa]) / tributos) +  \\\n",
    "                                               df_leitura['Valor_2 '+tipo_tarifa]                   \n",
    "\n",
    "    df_leitura['Valor Consumo Ativo na Ponta '+tipo_tarifa] = \\\n",
    "    df_leitura['Consumos Ativos Na Ponta (KWh)'] * tarifa_a4.at[tipo_tarifa, 'Consumo Ativo na Ponta']\n",
    "\n",
    "    df_leitura['Valor Consumo Ativo Fora Ponta '+tipo_tarifa] = \\\n",
    "    df_leitura['Consumos Ativos Fora de Ponta (KWh)'] * tarifa_a4.at[tipo_tarifa, 'Consumo Ativo Fora Ponta']\n",
    "\n",
    "    df_leitura['Valor Consumo Reativo Excedente '+tipo_tarifa] = \\\n",
    "    df_leitura['Consumos Reativos (KWh)'] * tarifa_a4.at[tipo_tarifa, 'Consumo Reativo Excedente']\n",
    "\n",
    "    df_leitura['Valor Demanda Reativa Excedente na Ponta e Fora Ponta '+tipo_tarifa] = \\\n",
    "    df_leitura['Demandas Reativas Excedentes (KW)']*tarifa_a4.at[tipo_tarifa, 'Demanda Reativa Excedente na Ponta e Fora Ponta']\n",
    "\n",
    "    df_leitura['Valor '+tipo_tarifa] = round((df_leitura['Valor_1 '+tipo_tarifa] + \\\n",
    "                                              df_leitura['Valor Consumo Ativo na Ponta '+tipo_tarifa] + \\\n",
    "                                              df_leitura['Valor Consumo Ativo Fora Ponta '+tipo_tarifa] + \\\n",
    "                                              df_leitura['Valor Consumo Reativo Excedente '+tipo_tarifa] +  \\\n",
    "                                              df_leitura['Valor Demanda Reativa Excedente na Ponta e Fora Ponta '+tipo_tarifa]) / tributos, 2)\n",
    "\n",
    "# As tarifas mudaram o preço em maio 2022\n",
    "df_grafico = df_leitura[df_leitura.index >= mes_inicial_grafico]\n",
    "df_grafico = df_grafico[['Valor A4 VERDE 2022', 'Valor A4 AZUL 2022', 'Tarifa (R$) A4 VERDE 2022']]\n",
    "\n",
    "fig = df_grafico.plot.bar(color =['darkgreen', 'darkblue', 'darkorange'])\n",
    "\n",
    "demanda_original = str(int(df_leitura.at[mes_final,'Demdas. Ativas Contdas. (DC)']))\n",
    "\n",
    "plt.xticks(rotation=0)\n",
    "plt.legend(['Valor A4 Verde (demanda contratada otimizada)', \\\n",
    "            'Valor A4 Azul (demandas contratadas otimizadas)', \\\n",
    "            'Valor Original'], \\\n",
    "           fontsize = 10, \\\n",
    "           loc='lower right')\n",
    "fig.set_ylabel('R$', {'fontsize': 10})\n",
    "fig.set_xlabel('Demanda ótima Verde e fora ponta Azul: '+demanda_otima_verde+ \\\n",
    "               ' kW | Demanda ótima na ponta Azul: '+demanda_otima_azul_na_ponta+ \\\n",
    "               ' kW | Demanda original: '+demanda_original+ \\\n",
    "               ' kW', {'fontsize': 10})\n",
    "\n",
    "# plt.savefig('Figuras/Figura 8.png', pad_inches=0.1, bbox_inches ='tight', facecolor ='w') \n",
    "plt.show()   \n",
    "\n",
    "print('Demanda ótima VERDE: '+demanda_otima_verde)\n",
    "print('Demanda ótima fora ponta AZUL: '+demanda_otima_azul_fora_ponta)\n",
    "print('Demanda ótima na ponta AZUL: '+demanda_otima_azul_na_ponta)    \n",
    "print('Demanda original: '+demanda_original)"
   ]
  },
  {
   "cell_type": "code",
   "execution_count": null,
   "id": "14249117",
   "metadata": {
    "id": "14249117"
   },
   "outputs": [],
   "source": [
    "# Figura 9\n",
    "plt.rc('figure', figsize = (10,5))   \n",
    "plt.rcParams['xtick.labelsize'] = 8\n",
    "plt.rcParams['ytick.labelsize'] = 8\n",
    "\n",
    "df_leitura = pd.DataFrame()\n",
    "df_leitura['Atraso'] = df['Multa (R$)'] + df['Juros (R$)']\n",
    "df_grafico = df_leitura.groupby('Mês/ano').sum()\n",
    "\n",
    "df_grafico.plot.bar(color = 'darkcyan', width = 0.85)\n",
    "\n",
    "plt.xticks(rotation=90)\n",
    "plt.legend(['Soma do valor de multas e juros'], fontsize = 10)\n",
    "plt.xlabel(\"Mês/ano\", {'fontsize': 10})\n",
    "plt.ylabel(\"R$\", {'fontsize': 10})\n",
    "# plt.savefig('Figuras/Figura 9.png', pad_inches=0.1, bbox_inches ='tight', facecolor ='w') \n",
    "plt.show()"
   ]
  }
 ],
 "metadata": {
  "colab": {
   "provenance": []
  },
  "kernelspec": {
   "display_name": "Python 3 (ipykernel)",
   "language": "python",
   "name": "python3"
  },
  "language_info": {
   "codemirror_mode": {
    "name": "ipython",
    "version": 3
   },
   "file_extension": ".py",
   "mimetype": "text/x-python",
   "name": "python",
   "nbconvert_exporter": "python",
   "pygments_lexer": "ipython3",
   "version": "3.9.13"
  }
 },
 "nbformat": 4,
 "nbformat_minor": 5
}
